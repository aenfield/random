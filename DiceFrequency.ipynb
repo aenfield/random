{
 "cells": [
  {
   "cell_type": "code",
   "execution_count": 63,
   "metadata": {
    "collapsed": false
   },
   "outputs": [
    {
     "name": "stdout",
     "output_type": "stream",
     "text": [
      "Populating the interactive namespace from numpy and matplotlib\n"
     ]
    }
   ],
   "source": [
    "%pylab inline"
   ]
  },
  {
   "cell_type": "code",
   "execution_count": 1,
   "metadata": {
    "collapsed": true
   },
   "outputs": [],
   "source": [
    "single_die = {1: 1, 2: 2, 3: 2, 4: 1}"
   ]
  },
  {
   "cell_type": "code",
   "execution_count": 55,
   "metadata": {
    "collapsed": false
   },
   "outputs": [],
   "source": [
    "def add_die(new_die, existing={}, verbose=False):\n",
    "    if existing == {}:\n",
    "        return new_die.copy()\n",
    "    \n",
    "    new = {}\n",
    "    for existing_value, existing_count in existing.items():\n",
    "        for new_die_value, new_die_count in new_die.items():\n",
    "            key = existing_value + new_die_value\n",
    "            new[key] = new.get(key, 0) + (new_die_count * existing_count)\n",
    "            if verbose: print(new)\n",
    "    \n",
    "    return new"
   ]
  },
  {
   "cell_type": "code",
   "execution_count": 56,
   "metadata": {
    "collapsed": false
   },
   "outputs": [
    {
     "data": {
      "text/plain": [
       "{1: 1, 2: 2, 3: 2, 4: 1}"
      ]
     },
     "execution_count": 56,
     "metadata": {},
     "output_type": "execute_result"
    }
   ],
   "source": [
    "all_up = add_die(single_die)\n",
    "all_up"
   ]
  },
  {
   "cell_type": "code",
   "execution_count": 57,
   "metadata": {
    "collapsed": false
   },
   "outputs": [
    {
     "name": "stdout",
     "output_type": "stream",
     "text": [
      "{2: 1}\n",
      "{2: 1, 3: 2}\n",
      "{2: 1, 3: 2, 4: 2}\n",
      "{2: 1, 3: 2, 4: 2, 5: 1}\n",
      "{2: 1, 3: 4, 4: 2, 5: 1}\n",
      "{2: 1, 3: 4, 4: 6, 5: 1}\n",
      "{2: 1, 3: 4, 4: 6, 5: 5}\n",
      "{2: 1, 3: 4, 4: 6, 5: 5, 6: 2}\n",
      "{2: 1, 3: 4, 4: 8, 5: 5, 6: 2}\n",
      "{2: 1, 3: 4, 4: 8, 5: 9, 6: 2}\n",
      "{2: 1, 3: 4, 4: 8, 5: 9, 6: 6}\n",
      "{2: 1, 3: 4, 4: 8, 5: 9, 6: 6, 7: 2}\n",
      "{2: 1, 3: 4, 4: 8, 5: 10, 6: 6, 7: 2}\n",
      "{2: 1, 3: 4, 4: 8, 5: 10, 6: 8, 7: 2}\n",
      "{2: 1, 3: 4, 4: 8, 5: 10, 6: 8, 7: 4}\n",
      "{2: 1, 3: 4, 4: 8, 5: 10, 6: 8, 7: 4, 8: 1}\n"
     ]
    },
    {
     "data": {
      "text/plain": [
       "{2: 1, 3: 4, 4: 8, 5: 10, 6: 8, 7: 4, 8: 1}"
      ]
     },
     "execution_count": 57,
     "metadata": {},
     "output_type": "execute_result"
    }
   ],
   "source": [
    "all_up = add_die(single_die, all_up, verbose=True)\n",
    "all_up"
   ]
  },
  {
   "cell_type": "code",
   "execution_count": 58,
   "metadata": {
    "collapsed": false
   },
   "outputs": [
    {
     "data": {
      "text/plain": [
       "36"
      ]
     },
     "execution_count": 58,
     "metadata": {},
     "output_type": "execute_result"
    }
   ],
   "source": [
    "sum(all_up.values())"
   ]
  },
  {
   "cell_type": "code",
   "execution_count": 59,
   "metadata": {
    "collapsed": false
   },
   "outputs": [
    {
     "name": "stdout",
     "output_type": "stream",
     "text": [
      "{3: 1}\n",
      "{3: 1, 4: 2}\n",
      "{3: 1, 4: 2, 5: 2}\n",
      "{3: 1, 4: 2, 5: 2, 6: 1}\n",
      "{3: 1, 4: 6, 5: 2, 6: 1}\n",
      "{3: 1, 4: 6, 5: 10, 6: 1}\n",
      "{3: 1, 4: 6, 5: 10, 6: 9}\n",
      "{3: 1, 4: 6, 5: 10, 6: 9, 7: 4}\n",
      "{3: 1, 4: 6, 5: 18, 6: 9, 7: 4}\n",
      "{3: 1, 4: 6, 5: 18, 6: 25, 7: 4}\n",
      "{3: 1, 4: 6, 5: 18, 6: 25, 7: 20}\n",
      "{3: 1, 4: 6, 5: 18, 6: 25, 7: 20, 8: 8}\n",
      "{3: 1, 4: 6, 5: 18, 6: 35, 7: 20, 8: 8}\n",
      "{3: 1, 4: 6, 5: 18, 6: 35, 7: 40, 8: 8}\n",
      "{3: 1, 4: 6, 5: 18, 6: 35, 7: 40, 8: 28}\n",
      "{3: 1, 4: 6, 5: 18, 6: 35, 7: 40, 8: 28, 9: 10}\n",
      "{3: 1, 4: 6, 5: 18, 6: 35, 7: 48, 8: 28, 9: 10}\n",
      "{3: 1, 4: 6, 5: 18, 6: 35, 7: 48, 8: 44, 9: 10}\n",
      "{3: 1, 4: 6, 5: 18, 6: 35, 7: 48, 8: 44, 9: 26}\n",
      "{3: 1, 4: 6, 5: 18, 6: 35, 7: 48, 8: 44, 9: 26, 10: 8}\n",
      "{3: 1, 4: 6, 5: 18, 6: 35, 7: 48, 8: 48, 9: 26, 10: 8}\n",
      "{3: 1, 4: 6, 5: 18, 6: 35, 7: 48, 8: 48, 9: 34, 10: 8}\n",
      "{3: 1, 4: 6, 5: 18, 6: 35, 7: 48, 8: 48, 9: 34, 10: 16}\n",
      "{3: 1, 4: 6, 5: 18, 6: 35, 7: 48, 8: 48, 9: 34, 10: 16, 11: 4}\n",
      "{3: 1, 4: 6, 5: 18, 6: 35, 7: 48, 8: 48, 9: 35, 10: 16, 11: 4}\n",
      "{3: 1, 4: 6, 5: 18, 6: 35, 7: 48, 8: 48, 9: 35, 10: 18, 11: 4}\n",
      "{3: 1, 4: 6, 5: 18, 6: 35, 7: 48, 8: 48, 9: 35, 10: 18, 11: 6}\n",
      "{3: 1, 4: 6, 5: 18, 6: 35, 7: 48, 8: 48, 9: 35, 10: 18, 11: 6, 12: 1}\n"
     ]
    }
   ],
   "source": [
    "all_up = add_die(single_die, all_up, verbose=True)"
   ]
  },
  {
   "cell_type": "code",
   "execution_count": 61,
   "metadata": {
    "collapsed": false
   },
   "outputs": [
    {
     "data": {
      "text/plain": [
       "216"
      ]
     },
     "execution_count": 61,
     "metadata": {},
     "output_type": "execute_result"
    }
   ],
   "source": [
    "sum(all_up.values())"
   ]
  },
  {
   "cell_type": "code",
   "execution_count": 64,
   "metadata": {
    "collapsed": false
   },
   "outputs": [],
   "source": [
    "cum = np.cumsum(all_up.values())"
   ]
  },
  {
   "cell_type": "code",
   "execution_count": 66,
   "metadata": {
    "collapsed": false
   },
   "outputs": [
    {
     "data": {
      "text/plain": [
       "array([dict_values([1, 6, 18, 35, 48, 48, 35, 18, 6, 1])], dtype=object)"
      ]
     },
     "execution_count": 66,
     "metadata": {},
     "output_type": "execute_result"
    }
   ],
   "source": [
    "cum"
   ]
  },
  {
   "cell_type": "code",
   "execution_count": 67,
   "metadata": {
    "collapsed": true
   },
   "outputs": [],
   "source": [
    "np.cumsum?"
   ]
  },
  {
   "cell_type": "code",
   "execution_count": 69,
   "metadata": {
    "collapsed": true
   },
   "outputs": [],
   "source": [
    "np.histogram?"
   ]
  },
  {
   "cell_type": "code",
   "execution_count": null,
   "metadata": {
    "collapsed": true
   },
   "outputs": [],
   "source": []
  }
 ],
 "metadata": {
  "kernelspec": {
   "display_name": "Python 3",
   "language": "python",
   "name": "python3"
  },
  "language_info": {
   "codemirror_mode": {
    "name": "ipython",
    "version": 3
   },
   "file_extension": ".py",
   "mimetype": "text/x-python",
   "name": "python",
   "nbconvert_exporter": "python",
   "pygments_lexer": "ipython3",
   "version": "3.5.0"
  }
 },
 "nbformat": 4,
 "nbformat_minor": 0
}
