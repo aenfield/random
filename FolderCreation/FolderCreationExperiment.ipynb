{
 "cells": [
  {
   "cell_type": "code",
   "execution_count": 9,
   "metadata": {
    "collapsed": true
   },
   "outputs": [],
   "source": [
    "import pandas as pd\n",
    "import os"
   ]
  },
  {
   "cell_type": "code",
   "execution_count": 10,
   "metadata": {
    "collapsed": false
   },
   "outputs": [
    {
     "data": {
      "text/html": [
       "<div>\n",
       "<table border=\"1\" class=\"dataframe\">\n",
       "  <thead>\n",
       "    <tr style=\"text-align: right;\">\n",
       "      <th></th>\n",
       "      <th>Class</th>\n",
       "      <th>Name</th>\n",
       "    </tr>\n",
       "  </thead>\n",
       "  <tbody>\n",
       "    <tr>\n",
       "      <th>0</th>\n",
       "      <td>First Grade - Doe</td>\n",
       "      <td>Eckman George</td>\n",
       "    </tr>\n",
       "    <tr>\n",
       "      <th>1</th>\n",
       "      <td>First Grade - Doe</td>\n",
       "      <td>Enfield Conor</td>\n",
       "    </tr>\n",
       "    <tr>\n",
       "      <th>2</th>\n",
       "      <td>First Grade - Doe</td>\n",
       "      <td>Silva Bodhi</td>\n",
       "    </tr>\n",
       "    <tr>\n",
       "      <th>3</th>\n",
       "      <td>Second Grade - Bar</td>\n",
       "      <td>Enfield Rosemary</td>\n",
       "    </tr>\n",
       "    <tr>\n",
       "      <th>4</th>\n",
       "      <td>Second Grade - Bar</td>\n",
       "      <td>Wells Henry</td>\n",
       "    </tr>\n",
       "    <tr>\n",
       "      <th>5</th>\n",
       "      <td>Second Grade - Bar</td>\n",
       "      <td>Altschuler Jyoti</td>\n",
       "    </tr>\n",
       "  </tbody>\n",
       "</table>\n",
       "</div>"
      ],
      "text/plain": [
       "                Class              Name\n",
       "0   First Grade - Doe     Eckman George\n",
       "1   First Grade - Doe     Enfield Conor\n",
       "2   First Grade - Doe       Silva Bodhi\n",
       "3  Second Grade - Bar  Enfield Rosemary\n",
       "4  Second Grade - Bar       Wells Henry\n",
       "5  Second Grade - Bar  Altschuler Jyoti"
      ]
     },
     "execution_count": 10,
     "metadata": {},
     "output_type": "execute_result"
    }
   ],
   "source": [
    "d = pd.read_excel('data.xlsx')\n",
    "d"
   ]
  },
  {
   "cell_type": "code",
   "execution_count": 11,
   "metadata": {
    "collapsed": false
   },
   "outputs": [
    {
     "name": "stdout",
     "output_type": "stream",
     "text": [
      "0 First Grade - Doe Eckman George\n",
      "1 First Grade - Doe Enfield Conor\n",
      "2 First Grade - Doe Silva Bodhi\n",
      "3 Second Grade - Bar Enfield Rosemary\n",
      "4 Second Grade - Bar Wells Henry\n",
      "5 Second Grade - Bar Altschuler Jyoti\n"
     ]
    }
   ],
   "source": [
    "for index, row in d.iterrows():\n",
    "    print(index, row['Class'], row['Name'])"
   ]
  },
  {
   "cell_type": "code",
   "execution_count": 12,
   "metadata": {
    "collapsed": false
   },
   "outputs": [
    {
     "name": "stdout",
     "output_type": "stream",
     "text": [
      "Creating 'First Grade - Doe/Eckman George'\n",
      "Creating 'First Grade - Doe/Enfield Conor'\n",
      "Creating 'First Grade - Doe/Silva Bodhi'\n",
      "Creating 'Second Grade - Bar/Enfield Rosemary'\n",
      "Creating 'Second Grade - Bar/Wells Henry'\n",
      "Creating 'Second Grade - Bar/Altschuler Jyoti'\n"
     ]
    }
   ],
   "source": [
    "for index, row in d.iterrows():\n",
    "    path = '{}/{}'.format(row['Class'], row['Name'])\n",
    "    print(\"Creating '{}...'\".format(path))\n",
    "    os.makedirs(path, exist_ok=True)"
   ]
  },
  {
   "cell_type": "code",
   "execution_count": null,
   "metadata": {
    "collapsed": true
   },
   "outputs": [],
   "source": []
  }
 ],
 "metadata": {
  "kernelspec": {
   "display_name": "Python 3",
   "language": "python",
   "name": "python3"
  },
  "language_info": {
   "codemirror_mode": {
    "name": "ipython",
    "version": 3
   },
   "file_extension": ".py",
   "mimetype": "text/x-python",
   "name": "python",
   "nbconvert_exporter": "python",
   "pygments_lexer": "ipython3",
   "version": "3.5.2"
  }
 },
 "nbformat": 4,
 "nbformat_minor": 0
}
