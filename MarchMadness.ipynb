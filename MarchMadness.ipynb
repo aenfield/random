{
 "cells": [
  {
   "cell_type": "code",
   "execution_count": 1,
   "metadata": {
    "collapsed": false
   },
   "outputs": [
    {
     "name": "stdout",
     "output_type": "stream",
     "text": [
      "Populating the interactive namespace from numpy and matplotlib\n"
     ]
    }
   ],
   "source": [
    "%pylab inline"
   ]
  },
  {
   "cell_type": "code",
   "execution_count": 141,
   "metadata": {
    "collapsed": false
   },
   "outputs": [],
   "source": [
    "people = ['Conor', 'Rosemary', 'Will', 'Andrew']\n",
    "all_teams = [['Kentucky', 'Villanova', 'Duke', 'Wisconsin'],\n",
    "             ['Kansas', 'Arizona', 'Gonzaga', 'Virginia'],\n",
    "             ['Iowa St','Baylor','Oklahoma','Notre Dame'],\n",
    "             ['North Carolina','Maryland','Louisville','Georgetown'],\n",
    "             ['Utah','Arkansas','West Virginia','UNI'],\n",
    "             ['SMU','Providence','Butler','Xavier'],\n",
    "             ['Michigan St','Wichita St','Iowa','VCU'],\n",
    "             ['Cincinnati','Oregon','NC State','San Diego St'],\n",
    "             ['St Johns','Oklahoma St','LSU','Purdue'],\n",
    "             ['Indiana','Davidson','Ohio St','Georgia'],\n",
    "             ['Texas','UCLA','Ole Miss/BYU','Boise St/Dayton'],\n",
    "             ['Wyoming','Buffalo','Wofford','Stephen F. Austin'],\n",
    "             ['Valpo','Harvard','EWU','UC Irvine'],\n",
    "             ['Georgia St','Northeastern','UAB','Albany'],\n",
    "             ['New Mexico St','Belmont','Texas Southern','ND St'],\n",
    "             ['Lafayette','Coastal Carolina','North Florida/Robert Morris','Manhattan/Hampton'],\n",
    "            ]\n",
    "\n",
    "def allocate_four_teams(four_teams, people=people):\n",
    "    slots = random.permutation([0,1,2,3])\n",
    "    return {name: four_teams[slots[idx]] for idx, name in enumerate(people)}\n",
    "    #return [(name, four_teams[slots[idx]]) for idx, name in enumerate(people)]\n",
    "\n",
    "def allocate_all_teams(all_teams=all_teams):\n",
    "    return [allocate_four_teams(four_teams) for four_teams in all_teams]"
   ]
  },
  {
   "cell_type": "code",
   "execution_count": 144,
   "metadata": {
    "collapsed": false
   },
   "outputs": [],
   "source": [
    "allocated = allocate_all_teams()\n",
    "#allocated"
   ]
  },
  {
   "cell_type": "code",
   "execution_count": 145,
   "metadata": {
    "collapsed": false
   },
   "outputs": [
    {
     "data": {
      "text/plain": [
       "{'Andrew': 'North Florida/Robert Morris',\n",
       " 'Conor': 'Lafayette',\n",
       " 'Rosemary': 'Coastal Carolina',\n",
       " 'Will': 'Manhattan/Hampton'}"
      ]
     },
     "execution_count": 145,
     "metadata": {},
     "output_type": "execute_result"
    }
   ],
   "source": [
    "allocated[15]"
   ]
  },
  {
   "cell_type": "code",
   "execution_count": 126,
   "metadata": {
    "collapsed": false
   },
   "outputs": [
    {
     "data": {
      "text/plain": [
       "{'Andrew': 'Belmont',\n",
       " 'Conor': 'Texas Southern',\n",
       " 'Rosemary': 'New Mexico St',\n",
       " 'Will': 'ND St'}"
      ]
     },
     "execution_count": 126,
     "metadata": {},
     "output_type": "execute_result"
    }
   ],
   "source": [
    "allocated[14]"
   ]
  },
  {
   "cell_type": "code",
   "execution_count": 127,
   "metadata": {
    "collapsed": false
   },
   "outputs": [
    {
     "data": {
      "text/plain": [
       "{'Andrew': 'Northeastern',\n",
       " 'Conor': 'Georgia St',\n",
       " 'Rosemary': 'UAB',\n",
       " 'Will': 'Albany'}"
      ]
     },
     "execution_count": 127,
     "metadata": {},
     "output_type": "execute_result"
    }
   ],
   "source": [
    "allocated[13]"
   ]
  },
  {
   "cell_type": "code",
   "execution_count": 128,
   "metadata": {
    "collapsed": false
   },
   "outputs": [
    {
     "data": {
      "text/plain": [
       "{'Andrew': 'EWU', 'Conor': 'Valpo', 'Rosemary': 'UC Irvine', 'Will': 'Harvard'}"
      ]
     },
     "execution_count": 128,
     "metadata": {},
     "output_type": "execute_result"
    }
   ],
   "source": [
    "allocated[12]"
   ]
  },
  {
   "cell_type": "code",
   "execution_count": 129,
   "metadata": {
    "collapsed": false
   },
   "outputs": [
    {
     "data": {
      "text/plain": [
       "{'Andrew': 'Wyoming',\n",
       " 'Conor': 'Wofford',\n",
       " 'Rosemary': 'Stephen F. Austin',\n",
       " 'Will': 'Buffalo'}"
      ]
     },
     "execution_count": 129,
     "metadata": {},
     "output_type": "execute_result"
    }
   ],
   "source": [
    "allocated[11]"
   ]
  },
  {
   "cell_type": "code",
   "execution_count": 130,
   "metadata": {
    "collapsed": false
   },
   "outputs": [
    {
     "data": {
      "text/plain": [
       "{'Andrew': 'Boise St/Dayton',\n",
       " 'Conor': 'Ole Miss/BYU',\n",
       " 'Rosemary': 'Texas',\n",
       " 'Will': 'UCLA'}"
      ]
     },
     "execution_count": 130,
     "metadata": {},
     "output_type": "execute_result"
    }
   ],
   "source": [
    "allocated[10]"
   ]
  },
  {
   "cell_type": "code",
   "execution_count": 131,
   "metadata": {
    "collapsed": false
   },
   "outputs": [
    {
     "data": {
      "text/plain": [
       "{'Andrew': 'Davidson',\n",
       " 'Conor': 'Georgia',\n",
       " 'Rosemary': 'Indiana',\n",
       " 'Will': 'Ohio St'}"
      ]
     },
     "execution_count": 131,
     "metadata": {},
     "output_type": "execute_result"
    }
   ],
   "source": [
    "allocated[9]"
   ]
  },
  {
   "cell_type": "code",
   "execution_count": 132,
   "metadata": {
    "collapsed": false
   },
   "outputs": [
    {
     "data": {
      "text/plain": [
       "{'Andrew': 'Oklahoma St',\n",
       " 'Conor': 'St Johns',\n",
       " 'Rosemary': 'LSU',\n",
       " 'Will': 'Purdue'}"
      ]
     },
     "execution_count": 132,
     "metadata": {},
     "output_type": "execute_result"
    }
   ],
   "source": [
    "allocated[8]"
   ]
  },
  {
   "cell_type": "code",
   "execution_count": 133,
   "metadata": {
    "collapsed": false
   },
   "outputs": [
    {
     "data": {
      "text/plain": [
       "{'Andrew': 'San Diego St',\n",
       " 'Conor': 'NC State',\n",
       " 'Rosemary': 'Oregon',\n",
       " 'Will': 'Cincinnati'}"
      ]
     },
     "execution_count": 133,
     "metadata": {},
     "output_type": "execute_result"
    }
   ],
   "source": [
    "allocated[7]"
   ]
  },
  {
   "cell_type": "code",
   "execution_count": 134,
   "metadata": {
    "collapsed": false
   },
   "outputs": [
    {
     "data": {
      "text/plain": [
       "{'Andrew': 'VCU',\n",
       " 'Conor': 'Wichita St',\n",
       " 'Rosemary': 'Michigan St',\n",
       " 'Will': 'Iowa'}"
      ]
     },
     "execution_count": 134,
     "metadata": {},
     "output_type": "execute_result"
    }
   ],
   "source": [
    "allocated[6]"
   ]
  },
  {
   "cell_type": "code",
   "execution_count": 135,
   "metadata": {
    "collapsed": false
   },
   "outputs": [
    {
     "data": {
      "text/plain": [
       "{'Andrew': 'Providence',\n",
       " 'Conor': 'SMU',\n",
       " 'Rosemary': 'Butler',\n",
       " 'Will': 'Xavier'}"
      ]
     },
     "execution_count": 135,
     "metadata": {},
     "output_type": "execute_result"
    }
   ],
   "source": [
    "allocated[5]"
   ]
  },
  {
   "cell_type": "code",
   "execution_count": 136,
   "metadata": {
    "collapsed": false
   },
   "outputs": [
    {
     "data": {
      "text/plain": [
       "{'Andrew': 'UNI',\n",
       " 'Conor': 'West Virginia',\n",
       " 'Rosemary': 'Utah',\n",
       " 'Will': 'Arkansas'}"
      ]
     },
     "execution_count": 136,
     "metadata": {},
     "output_type": "execute_result"
    }
   ],
   "source": [
    "allocated[4]"
   ]
  },
  {
   "cell_type": "code",
   "execution_count": 137,
   "metadata": {
    "collapsed": false
   },
   "outputs": [
    {
     "data": {
      "text/plain": [
       "{'Andrew': 'Maryland',\n",
       " 'Conor': 'North Carolina',\n",
       " 'Rosemary': 'Louisville',\n",
       " 'Will': 'Georgetown'}"
      ]
     },
     "execution_count": 137,
     "metadata": {},
     "output_type": "execute_result"
    }
   ],
   "source": [
    "allocated[3]"
   ]
  },
  {
   "cell_type": "code",
   "execution_count": 138,
   "metadata": {
    "collapsed": false
   },
   "outputs": [
    {
     "data": {
      "text/plain": [
       "{'Andrew': 'Oklahoma',\n",
       " 'Conor': 'Iowa St',\n",
       " 'Rosemary': 'Baylor',\n",
       " 'Will': 'Notre Dame'}"
      ]
     },
     "execution_count": 138,
     "metadata": {},
     "output_type": "execute_result"
    }
   ],
   "source": [
    "allocated[2]"
   ]
  },
  {
   "cell_type": "code",
   "execution_count": 139,
   "metadata": {
    "collapsed": false
   },
   "outputs": [
    {
     "data": {
      "text/plain": [
       "{'Andrew': 'Arizona',\n",
       " 'Conor': 'Kansas',\n",
       " 'Rosemary': 'Virginia',\n",
       " 'Will': 'Gonzaga'}"
      ]
     },
     "execution_count": 139,
     "metadata": {},
     "output_type": "execute_result"
    }
   ],
   "source": [
    "allocated[1]"
   ]
  },
  {
   "cell_type": "code",
   "execution_count": 140,
   "metadata": {
    "collapsed": false
   },
   "outputs": [
    {
     "data": {
      "text/plain": [
       "{'Andrew': 'Villanova',\n",
       " 'Conor': 'Duke',\n",
       " 'Rosemary': 'Kentucky',\n",
       " 'Will': 'Wisconsin'}"
      ]
     },
     "execution_count": 140,
     "metadata": {},
     "output_type": "execute_result"
    }
   ],
   "source": [
    "allocated[0]"
   ]
  },
  {
   "cell_type": "code",
   "execution_count": null,
   "metadata": {
    "collapsed": true
   },
   "outputs": [],
   "source": []
  }
 ],
 "metadata": {
  "kernelspec": {
   "display_name": "Python 2",
   "language": "python",
   "name": "python2"
  },
  "language_info": {
   "codemirror_mode": {
    "name": "ipython",
    "version": 2
   },
   "file_extension": ".py",
   "mimetype": "text/x-python",
   "name": "python",
   "nbconvert_exporter": "python",
   "pygments_lexer": "ipython2",
   "version": "2.7.9"
  }
 },
 "nbformat": 4,
 "nbformat_minor": 0
}
