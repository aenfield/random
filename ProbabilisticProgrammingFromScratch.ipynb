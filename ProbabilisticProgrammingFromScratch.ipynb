{
 "cells": [
  {
   "cell_type": "markdown",
   "metadata": {},
   "source": [
    "This is code that goes along w/ the three 'orioles' you can see if you run this search on the O'Reilly site: https://www.safaribooksonline.com/search/?query=%22probabilistic%20programming%20from%20scratch%22."
   ]
  },
  {
   "cell_type": "code",
   "execution_count": 52,
   "metadata": {
    "collapsed": true
   },
   "outputs": [],
   "source": [
    "import random \n",
    "import matplotlib.pyplot as plt\n",
    "%matplotlib inline"
   ]
  },
  {
   "cell_type": "markdown",
   "metadata": {},
   "source": [
    "# Part one"
   ]
  },
  {
   "cell_type": "code",
   "execution_count": 1,
   "metadata": {
    "collapsed": true
   },
   "outputs": [],
   "source": [
    "n_visitors_a = 100\n",
    "n_conv_a = 4\n",
    "\n",
    "n_visitors_b = 40\n",
    "n_conv_b = 2"
   ]
  },
  {
   "cell_type": "code",
   "execution_count": 13,
   "metadata": {
    "collapsed": true
   },
   "outputs": [],
   "source": [
    "def estimate_conversion(n_visitors, n_conv, trial_conversion, n_estimates=5000):\n",
    "    \"\"\"Returns n_estimates estimates of the conversion fraction\n",
    "    of a layout that received n_visitors, n_conv of which converted.\"\"\"\n",
    "    i = 0\n",
    "    estimates = []\n",
    "    while i < n_estimates:\n",
    "        p = trial_conversion()\n",
    "        n_sim = simulate_conversion(p, n_visitors)\n",
    "        if n_conv == n_sim:\n",
    "            estimates.append(p)\n",
    "            i += 1\n",
    "            \n",
    "    return estimates"
   ]
  },
  {
   "cell_type": "code",
   "execution_count": 14,
   "metadata": {
    "collapsed": true
   },
   "outputs": [],
   "source": [
    "def trial_conversion_a():\n",
    "    \"\"\"A conversion percentage can be anywhere between 0.0 and 1.0.\"\"\"\n",
    "    return random.random()"
   ]
  },
  {
   "cell_type": "code",
   "execution_count": 15,
   "metadata": {
    "collapsed": true
   },
   "outputs": [],
   "source": [
    "def simulate_conversion(p, n_visitors):\n",
    "    \"\"\"Return the number of visitors who convert given the passed\n",
    "    conversion fraction p.\"\"\"\n",
    "    outcomes = [random.random() < p for _ in range(n_visitors)]\n",
    "    return sum(outcomes)"
   ]
  },
  {
   "cell_type": "code",
   "execution_count": 16,
   "metadata": {
    "collapsed": true
   },
   "outputs": [],
   "source": [
    "a_estimates = estimate_conversion(n_visitors_a,\n",
    "                                  n_conv_a,\n",
    "                                  trial_conversion_a)"
   ]
  },
  {
   "cell_type": "code",
   "execution_count": 17,
   "metadata": {},
   "outputs": [
    {
     "data": {
      "text/plain": [
       "5000"
      ]
     },
     "execution_count": 17,
     "metadata": {},
     "output_type": "execute_result"
    }
   ],
   "source": [
    "len(a_estimates)"
   ]
  },
  {
   "cell_type": "code",
   "execution_count": 21,
   "metadata": {},
   "outputs": [
    {
     "data": {
      "text/plain": [
       "(array([  0.08,   0.64,   2.92,   7.28,  11.24,  15.52,  17.56,  20.52,\n",
       "         18.52,  21.44,  16.72,  14.52,  11.6 ,  10.6 ,   8.56,   6.64,\n",
       "          4.4 ,   3.44,   2.24,   1.4 ,   0.96,   0.84,   0.48,   0.6 ,\n",
       "          0.4 ,   0.28,   0.2 ,   0.24,   0.04,   0.04,   0.04,   0.04,\n",
       "          0.  ,   0.  ,   0.  ,   0.  ,   0.  ,   0.  ,   0.  ,   0.  ,\n",
       "          0.  ,   0.  ,   0.  ,   0.  ,   0.  ,   0.  ,   0.  ,   0.  ,   0.  ]),\n",
       " array([ 0.   ,  0.005,  0.01 ,  0.015,  0.02 ,  0.025,  0.03 ,  0.035,\n",
       "         0.04 ,  0.045,  0.05 ,  0.055,  0.06 ,  0.065,  0.07 ,  0.075,\n",
       "         0.08 ,  0.085,  0.09 ,  0.095,  0.1  ,  0.105,  0.11 ,  0.115,\n",
       "         0.12 ,  0.125,  0.13 ,  0.135,  0.14 ,  0.145,  0.15 ,  0.155,\n",
       "         0.16 ,  0.165,  0.17 ,  0.175,  0.18 ,  0.185,  0.19 ,  0.195,\n",
       "         0.2  ,  0.205,  0.21 ,  0.215,  0.22 ,  0.225,  0.23 ,  0.235,\n",
       "         0.24 ,  0.245]),\n",
       " <a list of 49 Patch objects>)"
      ]
     },
     "execution_count": 21,
     "metadata": {},
     "output_type": "execute_result"
    },
    {
     "data": {
      "image/png": "[encoded data removed]",
      "text/plain": [
       "<matplotlib.figure.Figure at 0x112717208>"
      ]
     },
     "metadata": {},
     "output_type": "display_data"
    }
   ],
   "source": [
    "abbins = [i/200.0 for i in range(50)] # 50 bins between 0 and 0.25 (?)\n",
    "plt.hist(a_estimates, bins=abbins, normed=True)"
   ]
  },
  {
   "cell_type": "code",
   "execution_count": 23,
   "metadata": {
    "collapsed": true
   },
   "outputs": [],
   "source": [
    "def trial_conversion_b():\n",
    "    while True:\n",
    "        x = random.normalvariate(mu=0.06, sigma=0.02)\n",
    "        if 0 <= x <= 1:\n",
    "            return x"
   ]
  },
  {
   "cell_type": "code",
   "execution_count": 24,
   "metadata": {
    "collapsed": true
   },
   "outputs": [],
   "source": [
    "trial_as = [trial_conversion_a() for _ in range(100000)]\n",
    "trial_bs = [trial_conversion_b() for _ in range(100000)]"
   ]
  },
  {
   "cell_type": "code",
   "execution_count": 25,
   "metadata": {},
   "outputs": [
    {
     "data": {
      "text/plain": [
       "<matplotlib.legend.Legend at 0x112820f28>"
      ]
     },
     "execution_count": 25,
     "metadata": {},
     "output_type": "execute_result"
    },
    {
     "data": {
      "image/png": "[encoded data removed]",
      "text/plain": [
       "<matplotlib.figure.Figure at 0x112820978>"
      ]
     },
     "metadata": {},
     "output_type": "display_data"
    }
   ],
   "source": [
    "plt.hist(trial_as, bins=abbins, label='A', normed=True)\n",
    "plt.hist(trial_bs, bins=abbins, label='B', normed=True)\n",
    "plt.legend()"
   ]
  },
  {
   "cell_type": "code",
   "execution_count": 26,
   "metadata": {
    "collapsed": true
   },
   "outputs": [],
   "source": [
    "b_estimates = estimate_conversion(n_visitors_b,\n",
    "                                  n_conv_b,\n",
    "                                  trial_conversion_b)"
   ]
  },
  {
   "cell_type": "code",
   "execution_count": 27,
   "metadata": {},
   "outputs": [
    {
     "data": {
      "text/plain": [
       "<matplotlib.legend.Legend at 0x113082668>"
      ]
     },
     "execution_count": 27,
     "metadata": {},
     "output_type": "execute_result"
    },
    {
     "data": {
      "image/png": "[encoded data removed]",
      "text/plain": [
       "<matplotlib.figure.Figure at 0x113078d30>"
      ]
     },
     "metadata": {},
     "output_type": "display_data"
    }
   ],
   "source": [
    "plt.hist(a_estimates, bins=abbins, label='A', normed=True)\n",
    "plt.hist(b_estimates, bins=abbins, label='B', normed=True)\n",
    "plt.legend()"
   ]
  },
  {
   "cell_type": "code",
   "execution_count": 28,
   "metadata": {},
   "outputs": [
    {
     "data": {
      "text/plain": [
       "0.6656"
      ]
     },
     "execution_count": 28,
     "metadata": {},
     "output_type": "execute_result"
    }
   ],
   "source": [
    "b_better = [b > a for a, b in zip(a_estimates, b_estimates)]\n",
    "sum(b_better) / len(a_estimates)"
   ]
  },
  {
   "cell_type": "markdown",
   "metadata": {},
   "source": [
    "# Part two"
   ]
  },
  {
   "cell_type": "markdown",
   "metadata": {
    "collapsed": true
   },
   "source": [
    "See the pages."
   ]
  },
  {
   "cell_type": "markdown",
   "metadata": {},
   "source": [
    "# Part three"
   ]
  },
  {
   "cell_type": "markdown",
   "metadata": {},
   "source": [
    "See the pages for the initial stuff before the German tank problem."
   ]
  },
  {
   "cell_type": "markdown",
   "metadata": {},
   "source": [
    "## German tank problem"
   ]
  },
  {
   "cell_type": "markdown",
   "metadata": {},
   "source": [
    "First define abayes and take here since we haven't done all of the work above."
   ]
  },
  {
   "cell_type": "code",
   "execution_count": 67,
   "metadata": {
    "collapsed": true
   },
   "outputs": [],
   "source": [
    "import itertools\n",
    "\n",
    "def abayes(data, prior_sampler, simulate, compare):\n",
    "    for p in prior_sampler:\n",
    "        if compare(simulate(p), data):\n",
    "            yield p\n",
    "            \n",
    "def take(n, iterable):\n",
    "    \"\"\"Return first n items of the iterable as a list.\"\"\"\n",
    "    return list(itertools.islice(iterable, n))"
   ]
  },
  {
   "cell_type": "code",
   "execution_count": 29,
   "metadata": {
    "collapsed": true
   },
   "outputs": [],
   "source": [
    "captured_tank_serial_nums = [314, 421]"
   ]
  },
  {
   "cell_type": "code",
   "execution_count": 30,
   "metadata": {
    "collapsed": true
   },
   "outputs": [],
   "source": [
    "def prior_ntanks_sampler(captured_tank_serial_nums, upper=5000):\n",
    "    while True:\n",
    "        yield random.randint(max(captured_tank_serial_nums), upper)"
   ]
  },
  {
   "cell_type": "code",
   "execution_count": 31,
   "metadata": {
    "collapsed": true
   },
   "outputs": [],
   "source": [
    "def simulate_tanks(n_tanks, n_caught):\n",
    "    \"\"\"Return serial numbers of n_caught tanks, assuming there are\n",
    "    a total of n_tanks.\"\"\"\n",
    "    return random.sample(range(n_tanks), n_caught)"
   ]
  },
  {
   "cell_type": "code",
   "execution_count": 86,
   "metadata": {
    "collapsed": true
   },
   "outputs": [],
   "source": [
    "def compare_tanks(obs1, obs2, tol=10):\n",
    "    \"\"\"Return true if two sets of serial numbers agree within the \n",
    "    specified tolerance. Looks like it returns true as long as each\n",
    "    comparison of serial numbers are within, by default, 20 numbers - \n",
    "    i.e., serial numbers 20 and 40 'match' but 20 and 41 don't.\"\"\"\n",
    "    return all(abs(o1 - o2) <= tol for o1, o2 in zip(sorted(obs1), sorted(obs2)))"
   ]
  },
  {
   "cell_type": "code",
   "execution_count": 87,
   "metadata": {},
   "outputs": [],
   "source": [
    "posterior_ntanks_sampler = abayes(captured_tank_serial_nums,\n",
    "                                  prior_ntanks_sampler(captured_tank_serial_nums),\n",
    "                                  lambda n_tanks: simulate_tanks(n_tanks, len(captured_tank_serial_nums)), \n",
    "                                  compare_tanks)\n",
    "                                  \n",
    "tank_samples = take(1000, posterior_ntanks_sampler)"
   ]
  },
  {
   "cell_type": "code",
   "execution_count": 88,
   "metadata": {},
   "outputs": [],
   "source": [
    "posterior_ntanks_sampler = abayes(\n",
    "    captured_tank_serial_nums,\n",
    "    prior_ntanks_sampler(captured_tank_serial_nums),\n",
    "    lambda n_tanks: simulate_tanks(n_tanks, len(captured_tank_serial_nums)),\n",
    "    compare_tanks)\n",
    "\n",
    "tank_samples = take(10000, posterior_ntanks_sampler)"
   ]
  },
  {
   "cell_type": "code",
   "execution_count": 89,
   "metadata": {
    "collapsed": true
   },
   "outputs": [],
   "source": [
    "# analytic solution\n",
    "from math import factorial\n",
    "\n",
    "def binom(x, y):\n",
    "    \"\"\"Return binomial coef for x, y.\"\"\"\n",
    "    return factorial(x) // (factorial(y) * factorial(x - y))\n",
    "\n",
    "def analytic_solution(n_tanks, captured_tank_serial_nums):\n",
    "    \"\"\"Probability that there are n_tanks given a list of captured\n",
    "    serial numbers.\"\"\"\n",
    "    k = len(captured_tank_serial_nums)\n",
    "    if k < 2:\n",
    "        raise ValueError(\"Analytic formaul valid only for len(serialnums) >= 2.\")\n",
    "        \n",
    "    m = max(captured_tank_serial_nums)\n",
    "    if n_tanks < m:\n",
    "        return 0.0\n",
    "    else:\n",
    "        return (k - 1) / k * binom(m - 1, k - 1) / binom(n_tanks, k)"
   ]
  },
  {
   "cell_type": "code",
   "execution_count": 90,
   "metadata": {},
   "outputs": [
    {
     "data": {
      "text/plain": [
       "[<matplotlib.lines.Line2D at 0x1262ad278>]"
      ]
     },
     "execution_count": 90,
     "metadata": {},
     "output_type": "execute_result"
    },
    {
     "data": {
      "image/png": "[encoded data removed]",
      "text/plain": [
       "<matplotlib.figure.Figure at 0x12634bdd8>"
      ]
     },
     "metadata": {},
     "output_type": "display_data"
    }
   ],
   "source": [
    "tank_bins = range(0, 5000)\n",
    "plt.hist(tank_samples, normed=True, bins=tank_bins)\n",
    "plt.plot(tank_bins, [analytic_solution(x, captured_tank_serial_nums) for x in tank_bins])"
   ]
  },
  {
   "cell_type": "code",
   "execution_count": 80,
   "metadata": {
    "collapsed": true
   },
   "outputs": [],
   "source": [
    "from pymc3 import DiscreteUniform, Model, sample"
   ]
  },
  {
   "cell_type": "code",
   "execution_count": 84,
   "metadata": {},
   "outputs": [
    {
     "name": "stderr",
     "output_type": "stream",
     "text": [
      "Assigned Metropolis to n_tanks\n",
      "100%|██████████| 10000/10000 [00:01<00:00, 8430.51it/s]\n"
     ]
    }
   ],
   "source": [
    "with Model():\n",
    "    n_tanks = DiscreteUniform('n_tanks', \n",
    "                              lower = max(captured_tank_serial_nums),\n",
    "                              upper = 5000)\n",
    "    obs = DiscreteUniform('obs', lower = 0, upper = n_tanks,\n",
    "                          observed = captured_tank_serial_nums)\n",
    "    \n",
    "    trace = sample(100000)"
   ]
  },
  {
   "cell_type": "code",
   "execution_count": 85,
   "metadata": {},
   "outputs": [
    {
     "data": {
      "text/plain": [
       "[<matplotlib.lines.Line2D at 0x1262dc400>]"
      ]
     },
     "execution_count": 85,
     "metadata": {},
     "output_type": "execute_result"
    },
    {
     "data": {
      "image/png": "[encoded data removed]",
      "text/plain": [
       "<matplotlib.figure.Figure at 0x1262dce48>"
      ]
     },
     "metadata": {},
     "output_type": "display_data"
    }
   ],
   "source": [
    "burn_in = 1000\n",
    "plt.hist(trace[burn_in:].get_values('n_tanks'), normed=True, bins=100)\n",
    "plt.plot(tank_bins, [analytic_solution(x, captured_tank_serial_nums) for x in tank_bins])"
   ]
  },
  {
   "cell_type": "code",
   "execution_count": null,
   "metadata": {
    "collapsed": true
   },
   "outputs": [],
   "source": []
  }
 ],
 "metadata": {
  "kernelspec": {
   "display_name": "Python 3",
   "language": "python",
   "name": "python3"
  },
  "language_info": {
   "codemirror_mode": {
    "name": "ipython",
    "version": 3
   },
   "file_extension": ".py",
   "mimetype": "text/x-python",
   "name": "python",
   "nbconvert_exporter": "python",
   "pygments_lexer": "ipython3",
   "version": "3.6.1"
  }
 },
 "nbformat": 4,
 "nbformat_minor": 2
}
