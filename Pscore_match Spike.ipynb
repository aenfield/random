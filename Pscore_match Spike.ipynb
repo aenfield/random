{
 "cells": [
  {
   "cell_type": "markdown",
   "metadata": {},
   "source": [
    "I'd like to experiment with the pscore_match code, at https://github.com/kellieotto/pscore_match. This appears to have both propensity score generation and matching.\n",
    "\n",
    "It's an alpha package, and it's not on pypi, but I was able to install directly from git using pip, like this:\n",
    "\n",
    "     pip install git+https://github.com/kellieotto/pscore_match.git"
   ]
  },
  {
   "cell_type": "markdown",
   "metadata": {},
   "source": [
    "And I'll try the demo stuff at http://www.kellieottoboni.com/pscore_match/examples/ggi.html."
   ]
  },
  {
   "cell_type": "code",
   "execution_count": 2,
   "metadata": {},
   "outputs": [
    {
     "name": "stderr",
     "output_type": "stream",
     "text": [
      "C:\\Users\\andrewe\\AppData\\Local\\Continuum\\miniconda3\\envs\\anaconda\\lib\\site-packages\\statsmodels\\compat\\pandas.py:56: FutureWarning: The pandas.core.datetools module is deprecated and will be removed in a future version. Please use the pandas.tseries module instead.\n",
      "  from pandas.core import datetools\n"
     ]
    }
   ],
   "source": [
    "from pscore_match.pscore import PropensityScore\n",
    "from pscore_match.match import Match, whichMatched\n",
    "\n",
    "from scipy.stats import gaussian_kde\n",
    "import pandas as pd\n",
    "import numpy as np\n",
    "import matplotlib.pyplot as plt\n",
    "\n",
    "import plotly # for single plot comparing matched covariates\n",
    "\n",
    "%matplotlib inline"
   ]
  },
  {
   "cell_type": "code",
   "execution_count": 3,
   "metadata": {},
   "outputs": [
    {
     "data": {
      "text/plain": [
       "(10829, 26)"
      ]
     },
     "execution_count": 3,
     "metadata": {},
     "output_type": "execute_result"
    }
   ],
   "source": [
    "imai = pd.read_table('https://raw.githubusercontent.com/kellieotto/pscore_match/master/pscore_match/data/GerberGreenImai.txt', sep = '\\s+')\n",
    "imai.shape"
   ]
  },
  {
   "cell_type": "code",
   "execution_count": 4,
   "metadata": {},
   "outputs": [
    {
     "data": {
      "text/html": [
       "<div>\n",
       "<style>\n",
       "    .dataframe thead tr:only-child th {\n",
       "        text-align: right;\n",
       "    }\n",
       "\n",
       "    .dataframe thead th {\n",
       "        text-align: left;\n",
       "    }\n",
       "\n",
       "    .dataframe tbody tr th {\n",
       "        vertical-align: top;\n",
       "    }\n",
       "</style>\n",
       "<table border=\"1\" class=\"dataframe\">\n",
       "  <thead>\n",
       "    <tr style=\"text-align: right;\">\n",
       "      <th></th>\n",
       "      <th>PERSONS</th>\n",
       "      <th>WARD</th>\n",
       "      <th>QUESTION</th>\n",
       "      <th>MAILGRP</th>\n",
       "      <th>PHONEGRP</th>\n",
       "      <th>PERSNGRP</th>\n",
       "      <th>APPEAL</th>\n",
       "      <th>CONTACT</th>\n",
       "      <th>MAILINGS</th>\n",
       "      <th>AGE</th>\n",
       "      <th>...</th>\n",
       "      <th>DISMC</th>\n",
       "      <th>DISPHN</th>\n",
       "      <th>PHNC</th>\n",
       "      <th>PHNTRT1</th>\n",
       "      <th>PHNTRT2</th>\n",
       "      <th>PHNC1</th>\n",
       "      <th>PHNC2</th>\n",
       "      <th>NEW</th>\n",
       "      <th>phone</th>\n",
       "      <th>AGE2</th>\n",
       "    </tr>\n",
       "  </thead>\n",
       "  <tbody>\n",
       "    <tr>\n",
       "      <th>0</th>\n",
       "      <td>2</td>\n",
       "      <td>13</td>\n",
       "      <td>0</td>\n",
       "      <td>0</td>\n",
       "      <td>1</td>\n",
       "      <td>0</td>\n",
       "      <td>3</td>\n",
       "      <td>0</td>\n",
       "      <td>0</td>\n",
       "      <td>74</td>\n",
       "      <td>...</td>\n",
       "      <td>99</td>\n",
       "      <td>1</td>\n",
       "      <td>1</td>\n",
       "      <td>1</td>\n",
       "      <td>1</td>\n",
       "      <td>1</td>\n",
       "      <td>1</td>\n",
       "      <td>0</td>\n",
       "      <td>1</td>\n",
       "      <td>54.76</td>\n",
       "    </tr>\n",
       "    <tr>\n",
       "      <th>1</th>\n",
       "      <td>2</td>\n",
       "      <td>24</td>\n",
       "      <td>1</td>\n",
       "      <td>0</td>\n",
       "      <td>1</td>\n",
       "      <td>0</td>\n",
       "      <td>3</td>\n",
       "      <td>0</td>\n",
       "      <td>0</td>\n",
       "      <td>37</td>\n",
       "      <td>...</td>\n",
       "      <td>99</td>\n",
       "      <td>1</td>\n",
       "      <td>1</td>\n",
       "      <td>1</td>\n",
       "      <td>1</td>\n",
       "      <td>1</td>\n",
       "      <td>1</td>\n",
       "      <td>0</td>\n",
       "      <td>1</td>\n",
       "      <td>13.69</td>\n",
       "    </tr>\n",
       "    <tr>\n",
       "      <th>2</th>\n",
       "      <td>2</td>\n",
       "      <td>29</td>\n",
       "      <td>1</td>\n",
       "      <td>0</td>\n",
       "      <td>1</td>\n",
       "      <td>0</td>\n",
       "      <td>2</td>\n",
       "      <td>0</td>\n",
       "      <td>0</td>\n",
       "      <td>24</td>\n",
       "      <td>...</td>\n",
       "      <td>99</td>\n",
       "      <td>1</td>\n",
       "      <td>1</td>\n",
       "      <td>1</td>\n",
       "      <td>1</td>\n",
       "      <td>1</td>\n",
       "      <td>1</td>\n",
       "      <td>0</td>\n",
       "      <td>1</td>\n",
       "      <td>5.76</td>\n",
       "    </tr>\n",
       "  </tbody>\n",
       "</table>\n",
       "<p>3 rows × 26 columns</p>\n",
       "</div>"
      ],
      "text/plain": [
       "   PERSONS  WARD  QUESTION  MAILGRP  PHONEGRP  PERSNGRP  APPEAL  CONTACT  \\\n",
       "0        2    13         0        0         1         0       3        0   \n",
       "1        2    24         1        0         1         0       3        0   \n",
       "2        2    29         1        0         1         0       2        0   \n",
       "\n",
       "   MAILINGS  AGE  ...    DISMC  DISPHN  PHNC  PHNTRT1  PHNTRT2  PHNC1  PHNC2  \\\n",
       "0         0   74  ...       99       1     1        1        1      1      1   \n",
       "1         0   37  ...       99       1     1        1        1      1      1   \n",
       "2         0   24  ...       99       1     1        1        1      1      1   \n",
       "\n",
       "   NEW  phone   AGE2  \n",
       "0    0      1  54.76  \n",
       "1    0      1  13.69  \n",
       "2    0      1   5.76  \n",
       "\n",
       "[3 rows x 26 columns]"
      ]
     },
     "execution_count": 4,
     "metadata": {},
     "output_type": "execute_result"
    }
   ],
   "source": [
    "imai.index = range(imai.shape[0])\n",
    "imai[:3]"
   ]
  },
  {
   "cell_type": "code",
   "execution_count": 5,
   "metadata": {
    "collapsed": true
   },
   "outputs": [],
   "source": [
    "# interaction terms\n",
    "imai['PERSONS1_VOTE961'] = (imai.PERSONS==1)*imai.VOTE961\n",
    "imai['PERSONS1_NEW'] = (imai.PERSONS==1)*imai.NEW"
   ]
  },
  {
   "cell_type": "markdown",
   "metadata": {},
   "source": [
    "If I'm reading the ggi page correctly, the original Gerber-Green study was designed to call people with one of two messages: for a control, people received a message about civic duty, and for a treatment they received a message about the electoral race. If the  randomization worked correctly (it didn't), we'd expect that roughly the same proportion of people would answer the phone and hear the message in both groups. Actually, those that received the electoral race message were 10% less likely to answer the phone. Because of this imbalance, we can't know if differences in voter turnout between the control and treatment groups (the result/effect) were because of the message or because of fundamental other difference(s) (that also caused the groups to be different in how likely they were to answer the phone).\n",
    "\n",
    "The dataset above includes control observations - people that got the civic duty message - and treatment observations - people that got the electoral race message - as long as they answered the phone... that is, everyone in the list answered the phone. I believe this is represented by the PHNC1 column, with 1 for treatments. \n",
    "\n",
    "The Imai follow-up attempted to correct for this imbalance after the fact by selecting a subset of the control observations, that answered the phone, and that were 'like' the treatment observations in terms of the specified covariates. We'd expect to see that, without matching, the distribution of propensity scores between control and treatment is different, while after matching, the distribution of propensity scores from the selected matching subset of controls is similar to the distribution of the treatment observations.   "
   ]
  },
  {
   "cell_type": "code",
   "execution_count": 6,
   "metadata": {
    "collapsed": true
   },
   "outputs": [],
   "source": [
    "treatment = np.array(imai.PHNC1)\n",
    "\n",
    "cov_list = ['PERSONS', 'VOTE961', 'NEW', 'MAJORPTY', 'AGE', 'WARD', 'AGE2', 'PERSONS1_VOTE961', 'PERSONS1_NEW']\n",
    "covariates = imai[cov_list]"
   ]
  },
  {
   "cell_type": "code",
   "execution_count": 7,
   "metadata": {},
   "outputs": [
    {
     "data": {
      "text/plain": [
       "numpy.ndarray"
      ]
     },
     "execution_count": 7,
     "metadata": {},
     "output_type": "execute_result"
    }
   ],
   "source": [
    "type(treatment)"
   ]
  },
  {
   "cell_type": "code",
   "execution_count": 8,
   "metadata": {},
   "outputs": [
    {
     "data": {
      "text/plain": [
       "pandas.core.frame.DataFrame"
      ]
     },
     "execution_count": 8,
     "metadata": {},
     "output_type": "execute_result"
    }
   ],
   "source": [
    "type(covariates)"
   ]
  },
  {
   "cell_type": "code",
   "execution_count": 31,
   "metadata": {},
   "outputs": [
    {
     "data": {
      "text/plain": [
       "array([ 0.04315267,  0.02168222,  0.02596058, ...,  0.01979801,\n",
       "        0.05479772,  0.03370652])"
      ]
     },
     "execution_count": 31,
     "metadata": {},
     "output_type": "execute_result"
    }
   ],
   "source": [
    "pscore = PropensityScore(treatment, covariates).compute()\n",
    "pscore"
   ]
  },
  {
   "cell_type": "code",
   "execution_count": 32,
   "metadata": {},
   "outputs": [
    {
     "data": {
      "text/plain": [
       "0    10582\n",
       "1      247\n",
       "dtype: int64"
      ]
     },
     "execution_count": 32,
     "metadata": {},
     "output_type": "execute_result"
    }
   ],
   "source": [
    "pd.Series(treatment).value_counts(dropna=False)"
   ]
  },
  {
   "cell_type": "markdown",
   "metadata": {},
   "source": [
    "The Imai paper found five controls for each treatment, with replacement."
   ]
  },
  {
   "cell_type": "code",
   "execution_count": 33,
   "metadata": {
    "collapsed": true
   },
   "outputs": [],
   "source": [
    "pairs = Match(treatment, pscore)\n",
    "pairs.create(method='many-to-one', many_method='knn', k=5, replace=True)"
   ]
  },
  {
   "cell_type": "markdown",
   "metadata": {},
   "source": [
    "What to get from pairs? There's no docs for the properties of a Match instance, from what I can see. I can poke around, and I can look at the source. For now I'll just show a few things."
   ]
  },
  {
   "cell_type": "code",
   "execution_count": 34,
   "metadata": {},
   "outputs": [
    {
     "data": {
      "text/plain": [
       "['_match_info',\n",
       " '_match_many',\n",
       " '_match_one',\n",
       " 'create',\n",
       " 'freq',\n",
       " 'groups',\n",
       " 'matches',\n",
       " 'ncontrol',\n",
       " 'nobs',\n",
       " 'ntreat',\n",
       " 'plot_balance',\n",
       " 'propensity',\n",
       " 'weights']"
      ]
     },
     "execution_count": 34,
     "metadata": {},
     "output_type": "execute_result"
    }
   ],
   "source": [
    "[name for name in dir(pairs) if not name.startswith('__')] "
   ]
  },
  {
   "cell_type": "code",
   "execution_count": 35,
   "metadata": {},
   "outputs": [
    {
     "data": {
      "text/plain": [
       "dict_keys(['match_pairs', 'treated', 'control', 'dropped'])"
      ]
     },
     "execution_count": 35,
     "metadata": {},
     "output_type": "execute_result"
    }
   ],
   "source": [
    "pairs.matches.keys()"
   ]
  },
  {
   "cell_type": "markdown",
   "metadata": {},
   "source": [
    "The whichMatched function 'converts the output of Matches to a DataFrame with all matched observations'. It takes the Match object, and - key - a dataframe with the data we want to be able to look at. It filters this dataframe to show only the treatment observations and any matched controls, dropping controls that aren't matched.\n",
    "\n",
    "Or at least that's how I think this is working. I want to confirm it and be able to pull out the exact rows/IDs of the observations selected to match. To start w/ this, I added what I think is a good ID value to the starting dataframe that whichMatched will filter - I called it 'id_maybe' because I'm not 100% sure that this is actually an ID. It does appear to match the index value. I'll look at the results of this below.\n",
    "\n",
    "Also, it's possible that the data in the pairs object - for example, in the matches key - could have the matching rows."
   ]
  },
  {
   "cell_type": "code",
   "execution_count": 36,
   "metadata": {},
   "outputs": [
    {
     "data": {
      "text/plain": [
       "(10829, 32)"
      ]
     },
     "execution_count": 36,
     "metadata": {},
     "output_type": "execute_result"
    }
   ],
   "source": [
    "all_observations_orig = pd.DataFrame({'pscore': pscore, 'treatment': treatment, 'voted': imai.VOTED98, 'id_maybe': imai.index})\n",
    "# and then add in all of the original columns, so we do covariate comparison easily below; this duplicates a few cols but I'll leave this as is now so I don't have to change the names below\n",
    "all_observations = pd.concat([all_observations_orig, imai], axis=1)\n",
    "all_observations.shape"
   ]
  },
  {
   "cell_type": "code",
   "execution_count": 37,
   "metadata": {},
   "outputs": [
    {
     "data": {
      "text/html": [
       "<div>\n",
       "<style>\n",
       "    .dataframe thead tr:only-child th {\n",
       "        text-align: right;\n",
       "    }\n",
       "\n",
       "    .dataframe thead th {\n",
       "        text-align: left;\n",
       "    }\n",
       "\n",
       "    .dataframe tbody tr th {\n",
       "        vertical-align: top;\n",
       "    }\n",
       "</style>\n",
       "<table border=\"1\" class=\"dataframe\">\n",
       "  <thead>\n",
       "    <tr style=\"text-align: right;\">\n",
       "      <th></th>\n",
       "      <th>id_maybe</th>\n",
       "      <th>pscore</th>\n",
       "      <th>treatment</th>\n",
       "      <th>voted</th>\n",
       "      <th>PERSONS</th>\n",
       "      <th>WARD</th>\n",
       "      <th>QUESTION</th>\n",
       "      <th>MAILGRP</th>\n",
       "      <th>PHONEGRP</th>\n",
       "      <th>PERSNGRP</th>\n",
       "      <th>...</th>\n",
       "      <th>PHNC</th>\n",
       "      <th>PHNTRT1</th>\n",
       "      <th>PHNTRT2</th>\n",
       "      <th>PHNC1</th>\n",
       "      <th>PHNC2</th>\n",
       "      <th>NEW</th>\n",
       "      <th>phone</th>\n",
       "      <th>AGE2</th>\n",
       "      <th>PERSONS1_VOTE961</th>\n",
       "      <th>PERSONS1_NEW</th>\n",
       "    </tr>\n",
       "  </thead>\n",
       "  <tbody>\n",
       "    <tr>\n",
       "      <th>0</th>\n",
       "      <td>0</td>\n",
       "      <td>0.043153</td>\n",
       "      <td>1</td>\n",
       "      <td>1</td>\n",
       "      <td>2</td>\n",
       "      <td>13</td>\n",
       "      <td>0</td>\n",
       "      <td>0</td>\n",
       "      <td>1</td>\n",
       "      <td>0</td>\n",
       "      <td>...</td>\n",
       "      <td>1</td>\n",
       "      <td>1</td>\n",
       "      <td>1</td>\n",
       "      <td>1</td>\n",
       "      <td>1</td>\n",
       "      <td>0</td>\n",
       "      <td>1</td>\n",
       "      <td>54.76</td>\n",
       "      <td>0</td>\n",
       "      <td>0</td>\n",
       "    </tr>\n",
       "    <tr>\n",
       "      <th>1</th>\n",
       "      <td>1</td>\n",
       "      <td>0.021682</td>\n",
       "      <td>1</td>\n",
       "      <td>0</td>\n",
       "      <td>2</td>\n",
       "      <td>24</td>\n",
       "      <td>1</td>\n",
       "      <td>0</td>\n",
       "      <td>1</td>\n",
       "      <td>0</td>\n",
       "      <td>...</td>\n",
       "      <td>1</td>\n",
       "      <td>1</td>\n",
       "      <td>1</td>\n",
       "      <td>1</td>\n",
       "      <td>1</td>\n",
       "      <td>0</td>\n",
       "      <td>1</td>\n",
       "      <td>13.69</td>\n",
       "      <td>0</td>\n",
       "      <td>0</td>\n",
       "    </tr>\n",
       "    <tr>\n",
       "      <th>2</th>\n",
       "      <td>2</td>\n",
       "      <td>0.025961</td>\n",
       "      <td>1</td>\n",
       "      <td>1</td>\n",
       "      <td>2</td>\n",
       "      <td>29</td>\n",
       "      <td>1</td>\n",
       "      <td>0</td>\n",
       "      <td>1</td>\n",
       "      <td>0</td>\n",
       "      <td>...</td>\n",
       "      <td>1</td>\n",
       "      <td>1</td>\n",
       "      <td>1</td>\n",
       "      <td>1</td>\n",
       "      <td>1</td>\n",
       "      <td>0</td>\n",
       "      <td>1</td>\n",
       "      <td>5.76</td>\n",
       "      <td>0</td>\n",
       "      <td>0</td>\n",
       "    </tr>\n",
       "    <tr>\n",
       "      <th>3</th>\n",
       "      <td>3</td>\n",
       "      <td>0.050916</td>\n",
       "      <td>1</td>\n",
       "      <td>1</td>\n",
       "      <td>2</td>\n",
       "      <td>10</td>\n",
       "      <td>1</td>\n",
       "      <td>0</td>\n",
       "      <td>1</td>\n",
       "      <td>0</td>\n",
       "      <td>...</td>\n",
       "      <td>1</td>\n",
       "      <td>1</td>\n",
       "      <td>1</td>\n",
       "      <td>1</td>\n",
       "      <td>1</td>\n",
       "      <td>0</td>\n",
       "      <td>1</td>\n",
       "      <td>65.61</td>\n",
       "      <td>0</td>\n",
       "      <td>0</td>\n",
       "    </tr>\n",
       "    <tr>\n",
       "      <th>4</th>\n",
       "      <td>4</td>\n",
       "      <td>0.007089</td>\n",
       "      <td>1</td>\n",
       "      <td>0</td>\n",
       "      <td>2</td>\n",
       "      <td>21</td>\n",
       "      <td>0</td>\n",
       "      <td>0</td>\n",
       "      <td>1</td>\n",
       "      <td>0</td>\n",
       "      <td>...</td>\n",
       "      <td>1</td>\n",
       "      <td>1</td>\n",
       "      <td>1</td>\n",
       "      <td>1</td>\n",
       "      <td>1</td>\n",
       "      <td>1</td>\n",
       "      <td>1</td>\n",
       "      <td>11.56</td>\n",
       "      <td>0</td>\n",
       "      <td>0</td>\n",
       "    </tr>\n",
       "  </tbody>\n",
       "</table>\n",
       "<p>5 rows × 32 columns</p>\n",
       "</div>"
      ],
      "text/plain": [
       "   id_maybe    pscore  treatment  voted  PERSONS  WARD  QUESTION  MAILGRP  \\\n",
       "0         0  0.043153          1      1        2    13         0        0   \n",
       "1         1  0.021682          1      0        2    24         1        0   \n",
       "2         2  0.025961          1      1        2    29         1        0   \n",
       "3         3  0.050916          1      1        2    10         1        0   \n",
       "4         4  0.007089          1      0        2    21         0        0   \n",
       "\n",
       "   PHONEGRP  PERSNGRP      ...       PHNC  PHNTRT1  PHNTRT2  PHNC1  PHNC2  \\\n",
       "0         1         0      ...          1        1        1      1      1   \n",
       "1         1         0      ...          1        1        1      1      1   \n",
       "2         1         0      ...          1        1        1      1      1   \n",
       "3         1         0      ...          1        1        1      1      1   \n",
       "4         1         0      ...          1        1        1      1      1   \n",
       "\n",
       "   NEW  phone   AGE2  PERSONS1_VOTE961  PERSONS1_NEW  \n",
       "0    0      1  54.76                 0             0  \n",
       "1    0      1  13.69                 0             0  \n",
       "2    0      1   5.76                 0             0  \n",
       "3    0      1  65.61                 0             0  \n",
       "4    1      1  11.56                 0             0  \n",
       "\n",
       "[5 rows x 32 columns]"
      ]
     },
     "execution_count": 37,
     "metadata": {},
     "output_type": "execute_result"
    }
   ],
   "source": [
    "all_observations[:5]"
   ]
  },
  {
   "cell_type": "code",
   "execution_count": 38,
   "metadata": {},
   "outputs": [
    {
     "data": {
      "text/plain": [
       "<matplotlib.axes._subplots.AxesSubplot at 0x2ed52db1358>"
      ]
     },
     "execution_count": 38,
     "metadata": {},
     "output_type": "execute_result"
    },
    {
     "data": {
      "image/png": "[encoded data removed]",
      "text/plain": [
       "<matplotlib.figure.Figure at 0x2ed52db1198>"
      ]
     },
     "metadata": {},
     "output_type": "display_data"
    }
   ],
   "source": [
    "all_observations['id_maybe'].hist()"
   ]
  },
  {
   "cell_type": "code",
   "execution_count": 39,
   "metadata": {},
   "outputs": [
    {
     "data": {
      "text/html": [
       "<div>\n",
       "<style>\n",
       "    .dataframe thead tr:only-child th {\n",
       "        text-align: right;\n",
       "    }\n",
       "\n",
       "    .dataframe thead th {\n",
       "        text-align: left;\n",
       "    }\n",
       "\n",
       "    .dataframe tbody tr th {\n",
       "        vertical-align: top;\n",
       "    }\n",
       "</style>\n",
       "<table border=\"1\" class=\"dataframe\">\n",
       "  <thead>\n",
       "    <tr style=\"text-align: right;\">\n",
       "      <th>voted</th>\n",
       "      <th>0</th>\n",
       "      <th>1</th>\n",
       "      <th>All</th>\n",
       "    </tr>\n",
       "    <tr>\n",
       "      <th>treatment</th>\n",
       "      <th></th>\n",
       "      <th></th>\n",
       "      <th></th>\n",
       "    </tr>\n",
       "  </thead>\n",
       "  <tbody>\n",
       "    <tr>\n",
       "      <th>0</th>\n",
       "      <td>5881</td>\n",
       "      <td>4701</td>\n",
       "      <td>10582</td>\n",
       "    </tr>\n",
       "    <tr>\n",
       "      <th>1</th>\n",
       "      <td>87</td>\n",
       "      <td>160</td>\n",
       "      <td>247</td>\n",
       "    </tr>\n",
       "    <tr>\n",
       "      <th>All</th>\n",
       "      <td>5968</td>\n",
       "      <td>4861</td>\n",
       "      <td>10829</td>\n",
       "    </tr>\n",
       "  </tbody>\n",
       "</table>\n",
       "</div>"
      ],
      "text/plain": [
       "voted         0     1    All\n",
       "treatment                   \n",
       "0          5881  4701  10582\n",
       "1            87   160    247\n",
       "All        5968  4861  10829"
      ]
     },
     "execution_count": 39,
     "metadata": {},
     "output_type": "execute_result"
    }
   ],
   "source": [
    "pd.crosstab(all_observations['treatment'], all_observations['voted'], margins=True)"
   ]
  },
  {
   "cell_type": "code",
   "execution_count": 40,
   "metadata": {},
   "outputs": [
    {
     "data": {
      "text/plain": [
       "(1482, 32)"
      ]
     },
     "execution_count": 40,
     "metadata": {},
     "output_type": "execute_result"
    }
   ],
   "source": [
    "data_matched = whichMatched(pairs, all_observations)\n",
    "data_matched.shape"
   ]
  },
  {
   "cell_type": "code",
   "execution_count": 41,
   "metadata": {},
   "outputs": [
    {
     "data": {
      "text/html": [
       "<div>\n",
       "<style>\n",
       "    .dataframe thead tr:only-child th {\n",
       "        text-align: right;\n",
       "    }\n",
       "\n",
       "    .dataframe thead th {\n",
       "        text-align: left;\n",
       "    }\n",
       "\n",
       "    .dataframe tbody tr th {\n",
       "        vertical-align: top;\n",
       "    }\n",
       "</style>\n",
       "<table border=\"1\" class=\"dataframe\">\n",
       "  <thead>\n",
       "    <tr style=\"text-align: right;\">\n",
       "      <th>voted</th>\n",
       "      <th>0</th>\n",
       "      <th>1</th>\n",
       "      <th>All</th>\n",
       "    </tr>\n",
       "    <tr>\n",
       "      <th>treatment</th>\n",
       "      <th></th>\n",
       "      <th></th>\n",
       "      <th></th>\n",
       "    </tr>\n",
       "  </thead>\n",
       "  <tbody>\n",
       "    <tr>\n",
       "      <th>0</th>\n",
       "      <td>524</td>\n",
       "      <td>711</td>\n",
       "      <td>1235</td>\n",
       "    </tr>\n",
       "    <tr>\n",
       "      <th>1</th>\n",
       "      <td>87</td>\n",
       "      <td>160</td>\n",
       "      <td>247</td>\n",
       "    </tr>\n",
       "    <tr>\n",
       "      <th>All</th>\n",
       "      <td>611</td>\n",
       "      <td>871</td>\n",
       "      <td>1482</td>\n",
       "    </tr>\n",
       "  </tbody>\n",
       "</table>\n",
       "</div>"
      ],
      "text/plain": [
       "voted        0    1   All\n",
       "treatment                \n",
       "0          524  711  1235\n",
       "1           87  160   247\n",
       "All        611  871  1482"
      ]
     },
     "execution_count": 41,
     "metadata": {},
     "output_type": "execute_result"
    }
   ],
   "source": [
    "pd.crosstab(data_matched['treatment'], data_matched['voted'], margins=True)"
   ]
  },
  {
   "cell_type": "code",
   "execution_count": 42,
   "metadata": {},
   "outputs": [
    {
     "data": {
      "text/html": [
       "<div>\n",
       "<style>\n",
       "    .dataframe thead tr:only-child th {\n",
       "        text-align: right;\n",
       "    }\n",
       "\n",
       "    .dataframe thead th {\n",
       "        text-align: left;\n",
       "    }\n",
       "\n",
       "    .dataframe tbody tr th {\n",
       "        vertical-align: top;\n",
       "    }\n",
       "</style>\n",
       "<table border=\"1\" class=\"dataframe\">\n",
       "  <thead>\n",
       "    <tr style=\"text-align: right;\">\n",
       "      <th></th>\n",
       "      <th>id_maybe</th>\n",
       "      <th>pscore</th>\n",
       "      <th>treatment</th>\n",
       "      <th>voted</th>\n",
       "      <th>PERSONS</th>\n",
       "      <th>WARD</th>\n",
       "      <th>QUESTION</th>\n",
       "      <th>MAILGRP</th>\n",
       "      <th>PHONEGRP</th>\n",
       "      <th>PERSNGRP</th>\n",
       "      <th>...</th>\n",
       "      <th>PHNC</th>\n",
       "      <th>PHNTRT1</th>\n",
       "      <th>PHNTRT2</th>\n",
       "      <th>PHNC1</th>\n",
       "      <th>PHNC2</th>\n",
       "      <th>NEW</th>\n",
       "      <th>phone</th>\n",
       "      <th>AGE2</th>\n",
       "      <th>PERSONS1_VOTE961</th>\n",
       "      <th>PERSONS1_NEW</th>\n",
       "    </tr>\n",
       "  </thead>\n",
       "  <tbody>\n",
       "    <tr>\n",
       "      <th>0</th>\n",
       "      <td>0</td>\n",
       "      <td>0.043153</td>\n",
       "      <td>1</td>\n",
       "      <td>1</td>\n",
       "      <td>2</td>\n",
       "      <td>13</td>\n",
       "      <td>0</td>\n",
       "      <td>0</td>\n",
       "      <td>1</td>\n",
       "      <td>0</td>\n",
       "      <td>...</td>\n",
       "      <td>1</td>\n",
       "      <td>1</td>\n",
       "      <td>1</td>\n",
       "      <td>1</td>\n",
       "      <td>1</td>\n",
       "      <td>0</td>\n",
       "      <td>1</td>\n",
       "      <td>54.76</td>\n",
       "      <td>0</td>\n",
       "      <td>0</td>\n",
       "    </tr>\n",
       "    <tr>\n",
       "      <th>1</th>\n",
       "      <td>1</td>\n",
       "      <td>0.021682</td>\n",
       "      <td>1</td>\n",
       "      <td>0</td>\n",
       "      <td>2</td>\n",
       "      <td>24</td>\n",
       "      <td>1</td>\n",
       "      <td>0</td>\n",
       "      <td>1</td>\n",
       "      <td>0</td>\n",
       "      <td>...</td>\n",
       "      <td>1</td>\n",
       "      <td>1</td>\n",
       "      <td>1</td>\n",
       "      <td>1</td>\n",
       "      <td>1</td>\n",
       "      <td>0</td>\n",
       "      <td>1</td>\n",
       "      <td>13.69</td>\n",
       "      <td>0</td>\n",
       "      <td>0</td>\n",
       "    </tr>\n",
       "    <tr>\n",
       "      <th>2</th>\n",
       "      <td>2</td>\n",
       "      <td>0.025961</td>\n",
       "      <td>1</td>\n",
       "      <td>1</td>\n",
       "      <td>2</td>\n",
       "      <td>29</td>\n",
       "      <td>1</td>\n",
       "      <td>0</td>\n",
       "      <td>1</td>\n",
       "      <td>0</td>\n",
       "      <td>...</td>\n",
       "      <td>1</td>\n",
       "      <td>1</td>\n",
       "      <td>1</td>\n",
       "      <td>1</td>\n",
       "      <td>1</td>\n",
       "      <td>0</td>\n",
       "      <td>1</td>\n",
       "      <td>5.76</td>\n",
       "      <td>0</td>\n",
       "      <td>0</td>\n",
       "    </tr>\n",
       "    <tr>\n",
       "      <th>3</th>\n",
       "      <td>3</td>\n",
       "      <td>0.050916</td>\n",
       "      <td>1</td>\n",
       "      <td>1</td>\n",
       "      <td>2</td>\n",
       "      <td>10</td>\n",
       "      <td>1</td>\n",
       "      <td>0</td>\n",
       "      <td>1</td>\n",
       "      <td>0</td>\n",
       "      <td>...</td>\n",
       "      <td>1</td>\n",
       "      <td>1</td>\n",
       "      <td>1</td>\n",
       "      <td>1</td>\n",
       "      <td>1</td>\n",
       "      <td>0</td>\n",
       "      <td>1</td>\n",
       "      <td>65.61</td>\n",
       "      <td>0</td>\n",
       "      <td>0</td>\n",
       "    </tr>\n",
       "    <tr>\n",
       "      <th>4</th>\n",
       "      <td>4</td>\n",
       "      <td>0.007089</td>\n",
       "      <td>1</td>\n",
       "      <td>0</td>\n",
       "      <td>2</td>\n",
       "      <td>21</td>\n",
       "      <td>0</td>\n",
       "      <td>0</td>\n",
       "      <td>1</td>\n",
       "      <td>0</td>\n",
       "      <td>...</td>\n",
       "      <td>1</td>\n",
       "      <td>1</td>\n",
       "      <td>1</td>\n",
       "      <td>1</td>\n",
       "      <td>1</td>\n",
       "      <td>1</td>\n",
       "      <td>1</td>\n",
       "      <td>11.56</td>\n",
       "      <td>0</td>\n",
       "      <td>0</td>\n",
       "    </tr>\n",
       "  </tbody>\n",
       "</table>\n",
       "<p>5 rows × 32 columns</p>\n",
       "</div>"
      ],
      "text/plain": [
       "   id_maybe    pscore  treatment  voted  PERSONS  WARD  QUESTION  MAILGRP  \\\n",
       "0         0  0.043153          1      1        2    13         0        0   \n",
       "1         1  0.021682          1      0        2    24         1        0   \n",
       "2         2  0.025961          1      1        2    29         1        0   \n",
       "3         3  0.050916          1      1        2    10         1        0   \n",
       "4         4  0.007089          1      0        2    21         0        0   \n",
       "\n",
       "   PHONEGRP  PERSNGRP      ...       PHNC  PHNTRT1  PHNTRT2  PHNC1  PHNC2  \\\n",
       "0         1         0      ...          1        1        1      1      1   \n",
       "1         1         0      ...          1        1        1      1      1   \n",
       "2         1         0      ...          1        1        1      1      1   \n",
       "3         1         0      ...          1        1        1      1      1   \n",
       "4         1         0      ...          1        1        1      1      1   \n",
       "\n",
       "   NEW  phone   AGE2  PERSONS1_VOTE961  PERSONS1_NEW  \n",
       "0    0      1  54.76                 0             0  \n",
       "1    0      1  13.69                 0             0  \n",
       "2    0      1   5.76                 0             0  \n",
       "3    0      1  65.61                 0             0  \n",
       "4    1      1  11.56                 0             0  \n",
       "\n",
       "[5 rows x 32 columns]"
      ]
     },
     "execution_count": 42,
     "metadata": {},
     "output_type": "execute_result"
    }
   ],
   "source": [
    "data_matched[:5]"
   ]
  },
  {
   "cell_type": "code",
   "execution_count": 43,
   "metadata": {},
   "outputs": [
    {
     "data": {
      "text/plain": [
       "<matplotlib.axes._subplots.AxesSubplot at 0x2ed530e08d0>"
      ]
     },
     "execution_count": 43,
     "metadata": {},
     "output_type": "execute_result"
    },
    {
     "data": {
      "image/png": "[encoded data removed]",
      "text/plain": [
       "<matplotlib.figure.Figure at 0x2ed530e0710>"
      ]
     },
     "metadata": {},
     "output_type": "display_data"
    }
   ],
   "source": [
    "pd.Series(data_matched.index.values).hist()"
   ]
  },
  {
   "cell_type": "code",
   "execution_count": 44,
   "metadata": {},
   "outputs": [
    {
     "data": {
      "text/plain": [
       "<matplotlib.axes._subplots.AxesSubplot at 0x2ed53136ef0>"
      ]
     },
     "execution_count": 44,
     "metadata": {},
     "output_type": "execute_result"
    },
    {
     "data": {
      "image/png": "[encoded data removed]",
      "text/plain": [
       "<matplotlib.figure.Figure at 0x2ed53075e10>"
      ]
     },
     "metadata": {},
     "output_type": "display_data"
    }
   ],
   "source": [
    "data_matched['id_maybe'].hist()"
   ]
  },
  {
   "cell_type": "markdown",
   "metadata": {},
   "source": [
    "Why are we getting rows w/ the same IDs, scores, and treatment and voted values? We don't have that above w/ the first few rows. But here we have many (not all) with two or more - for ex, two 385s, two 398s, only one 509 and only one 517, four 554s. Shouldn't we just have a subset of the original all_observations dataframe, which doesn't have duplicates? \n",
    "\n",
    "Or... perhaps what we have here is the result of saying that we're doing it with replacement. If that's true, then the treatment rows should have no dupes - all the dupes should be in the selected controls. This is true, as shown below. In addition, if I do the matching without replacement, then I don't see any duplicates."
   ]
  },
  {
   "cell_type": "code",
   "execution_count": 45,
   "metadata": {},
   "outputs": [
    {
     "data": {
      "text/html": [
       "<div>\n",
       "<style>\n",
       "    .dataframe thead tr:only-child th {\n",
       "        text-align: right;\n",
       "    }\n",
       "\n",
       "    .dataframe thead th {\n",
       "        text-align: left;\n",
       "    }\n",
       "\n",
       "    .dataframe tbody tr th {\n",
       "        vertical-align: top;\n",
       "    }\n",
       "</style>\n",
       "<table border=\"1\" class=\"dataframe\">\n",
       "  <thead>\n",
       "    <tr style=\"text-align: right;\">\n",
       "      <th></th>\n",
       "      <th>id_maybe</th>\n",
       "      <th>pscore</th>\n",
       "      <th>treatment</th>\n",
       "      <th>voted</th>\n",
       "      <th>PERSONS</th>\n",
       "      <th>WARD</th>\n",
       "      <th>QUESTION</th>\n",
       "      <th>MAILGRP</th>\n",
       "      <th>PHONEGRP</th>\n",
       "      <th>PERSNGRP</th>\n",
       "      <th>...</th>\n",
       "      <th>PHNC</th>\n",
       "      <th>PHNTRT1</th>\n",
       "      <th>PHNTRT2</th>\n",
       "      <th>PHNC1</th>\n",
       "      <th>PHNC2</th>\n",
       "      <th>NEW</th>\n",
       "      <th>phone</th>\n",
       "      <th>AGE2</th>\n",
       "      <th>PERSONS1_VOTE961</th>\n",
       "      <th>PERSONS1_NEW</th>\n",
       "    </tr>\n",
       "  </thead>\n",
       "  <tbody>\n",
       "    <tr>\n",
       "      <th>375</th>\n",
       "      <td>375</td>\n",
       "      <td>0.007088</td>\n",
       "      <td>0</td>\n",
       "      <td>0</td>\n",
       "      <td>2</td>\n",
       "      <td>23</td>\n",
       "      <td>0</td>\n",
       "      <td>0</td>\n",
       "      <td>0</td>\n",
       "      <td>0</td>\n",
       "      <td>...</td>\n",
       "      <td>0</td>\n",
       "      <td>0</td>\n",
       "      <td>0</td>\n",
       "      <td>0</td>\n",
       "      <td>0</td>\n",
       "      <td>1</td>\n",
       "      <td>0</td>\n",
       "      <td>22.09</td>\n",
       "      <td>0</td>\n",
       "      <td>0</td>\n",
       "    </tr>\n",
       "    <tr>\n",
       "      <th>385</th>\n",
       "      <td>385</td>\n",
       "      <td>0.042576</td>\n",
       "      <td>0</td>\n",
       "      <td>1</td>\n",
       "      <td>2</td>\n",
       "      <td>21</td>\n",
       "      <td>1</td>\n",
       "      <td>0</td>\n",
       "      <td>0</td>\n",
       "      <td>0</td>\n",
       "      <td>...</td>\n",
       "      <td>0</td>\n",
       "      <td>0</td>\n",
       "      <td>0</td>\n",
       "      <td>0</td>\n",
       "      <td>0</td>\n",
       "      <td>0</td>\n",
       "      <td>0</td>\n",
       "      <td>47.61</td>\n",
       "      <td>0</td>\n",
       "      <td>0</td>\n",
       "    </tr>\n",
       "    <tr>\n",
       "      <th>385</th>\n",
       "      <td>385</td>\n",
       "      <td>0.042576</td>\n",
       "      <td>0</td>\n",
       "      <td>1</td>\n",
       "      <td>2</td>\n",
       "      <td>21</td>\n",
       "      <td>1</td>\n",
       "      <td>0</td>\n",
       "      <td>0</td>\n",
       "      <td>0</td>\n",
       "      <td>...</td>\n",
       "      <td>0</td>\n",
       "      <td>0</td>\n",
       "      <td>0</td>\n",
       "      <td>0</td>\n",
       "      <td>0</td>\n",
       "      <td>0</td>\n",
       "      <td>0</td>\n",
       "      <td>47.61</td>\n",
       "      <td>0</td>\n",
       "      <td>0</td>\n",
       "    </tr>\n",
       "    <tr>\n",
       "      <th>398</th>\n",
       "      <td>398</td>\n",
       "      <td>0.028800</td>\n",
       "      <td>0</td>\n",
       "      <td>1</td>\n",
       "      <td>2</td>\n",
       "      <td>18</td>\n",
       "      <td>0</td>\n",
       "      <td>0</td>\n",
       "      <td>0</td>\n",
       "      <td>0</td>\n",
       "      <td>...</td>\n",
       "      <td>0</td>\n",
       "      <td>0</td>\n",
       "      <td>0</td>\n",
       "      <td>0</td>\n",
       "      <td>0</td>\n",
       "      <td>0</td>\n",
       "      <td>0</td>\n",
       "      <td>28.09</td>\n",
       "      <td>0</td>\n",
       "      <td>0</td>\n",
       "    </tr>\n",
       "    <tr>\n",
       "      <th>398</th>\n",
       "      <td>398</td>\n",
       "      <td>0.028800</td>\n",
       "      <td>0</td>\n",
       "      <td>1</td>\n",
       "      <td>2</td>\n",
       "      <td>18</td>\n",
       "      <td>0</td>\n",
       "      <td>0</td>\n",
       "      <td>0</td>\n",
       "      <td>0</td>\n",
       "      <td>...</td>\n",
       "      <td>0</td>\n",
       "      <td>0</td>\n",
       "      <td>0</td>\n",
       "      <td>0</td>\n",
       "      <td>0</td>\n",
       "      <td>0</td>\n",
       "      <td>0</td>\n",
       "      <td>28.09</td>\n",
       "      <td>0</td>\n",
       "      <td>0</td>\n",
       "    </tr>\n",
       "    <tr>\n",
       "      <th>429</th>\n",
       "      <td>429</td>\n",
       "      <td>0.058208</td>\n",
       "      <td>0</td>\n",
       "      <td>1</td>\n",
       "      <td>2</td>\n",
       "      <td>21</td>\n",
       "      <td>1</td>\n",
       "      <td>0</td>\n",
       "      <td>0</td>\n",
       "      <td>0</td>\n",
       "      <td>...</td>\n",
       "      <td>0</td>\n",
       "      <td>0</td>\n",
       "      <td>0</td>\n",
       "      <td>0</td>\n",
       "      <td>0</td>\n",
       "      <td>0</td>\n",
       "      <td>0</td>\n",
       "      <td>64.00</td>\n",
       "      <td>0</td>\n",
       "      <td>0</td>\n",
       "    </tr>\n",
       "    <tr>\n",
       "      <th>429</th>\n",
       "      <td>429</td>\n",
       "      <td>0.058208</td>\n",
       "      <td>0</td>\n",
       "      <td>1</td>\n",
       "      <td>2</td>\n",
       "      <td>21</td>\n",
       "      <td>1</td>\n",
       "      <td>0</td>\n",
       "      <td>0</td>\n",
       "      <td>0</td>\n",
       "      <td>...</td>\n",
       "      <td>0</td>\n",
       "      <td>0</td>\n",
       "      <td>0</td>\n",
       "      <td>0</td>\n",
       "      <td>0</td>\n",
       "      <td>0</td>\n",
       "      <td>0</td>\n",
       "      <td>64.00</td>\n",
       "      <td>0</td>\n",
       "      <td>0</td>\n",
       "    </tr>\n",
       "    <tr>\n",
       "      <th>434</th>\n",
       "      <td>434</td>\n",
       "      <td>0.038197</td>\n",
       "      <td>0</td>\n",
       "      <td>1</td>\n",
       "      <td>2</td>\n",
       "      <td>5</td>\n",
       "      <td>1</td>\n",
       "      <td>0</td>\n",
       "      <td>0</td>\n",
       "      <td>0</td>\n",
       "      <td>...</td>\n",
       "      <td>0</td>\n",
       "      <td>0</td>\n",
       "      <td>0</td>\n",
       "      <td>0</td>\n",
       "      <td>0</td>\n",
       "      <td>0</td>\n",
       "      <td>0</td>\n",
       "      <td>54.76</td>\n",
       "      <td>0</td>\n",
       "      <td>0</td>\n",
       "    </tr>\n",
       "    <tr>\n",
       "      <th>434</th>\n",
       "      <td>434</td>\n",
       "      <td>0.038197</td>\n",
       "      <td>0</td>\n",
       "      <td>1</td>\n",
       "      <td>2</td>\n",
       "      <td>5</td>\n",
       "      <td>1</td>\n",
       "      <td>0</td>\n",
       "      <td>0</td>\n",
       "      <td>0</td>\n",
       "      <td>...</td>\n",
       "      <td>0</td>\n",
       "      <td>0</td>\n",
       "      <td>0</td>\n",
       "      <td>0</td>\n",
       "      <td>0</td>\n",
       "      <td>0</td>\n",
       "      <td>0</td>\n",
       "      <td>54.76</td>\n",
       "      <td>0</td>\n",
       "      <td>0</td>\n",
       "    </tr>\n",
       "    <tr>\n",
       "      <th>509</th>\n",
       "      <td>509</td>\n",
       "      <td>0.024301</td>\n",
       "      <td>0</td>\n",
       "      <td>1</td>\n",
       "      <td>2</td>\n",
       "      <td>19</td>\n",
       "      <td>1</td>\n",
       "      <td>0</td>\n",
       "      <td>0</td>\n",
       "      <td>0</td>\n",
       "      <td>...</td>\n",
       "      <td>0</td>\n",
       "      <td>0</td>\n",
       "      <td>0</td>\n",
       "      <td>0</td>\n",
       "      <td>0</td>\n",
       "      <td>0</td>\n",
       "      <td>0</td>\n",
       "      <td>27.04</td>\n",
       "      <td>0</td>\n",
       "      <td>0</td>\n",
       "    </tr>\n",
       "  </tbody>\n",
       "</table>\n",
       "<p>10 rows × 32 columns</p>\n",
       "</div>"
      ],
      "text/plain": [
       "     id_maybe    pscore  treatment  voted  PERSONS  WARD  QUESTION  MAILGRP  \\\n",
       "375       375  0.007088          0      0        2    23         0        0   \n",
       "385       385  0.042576          0      1        2    21         1        0   \n",
       "385       385  0.042576          0      1        2    21         1        0   \n",
       "398       398  0.028800          0      1        2    18         0        0   \n",
       "398       398  0.028800          0      1        2    18         0        0   \n",
       "429       429  0.058208          0      1        2    21         1        0   \n",
       "429       429  0.058208          0      1        2    21         1        0   \n",
       "434       434  0.038197          0      1        2     5         1        0   \n",
       "434       434  0.038197          0      1        2     5         1        0   \n",
       "509       509  0.024301          0      1        2    19         1        0   \n",
       "\n",
       "     PHONEGRP  PERSNGRP      ...       PHNC  PHNTRT1  PHNTRT2  PHNC1  PHNC2  \\\n",
       "375         0         0      ...          0        0        0      0      0   \n",
       "385         0         0      ...          0        0        0      0      0   \n",
       "385         0         0      ...          0        0        0      0      0   \n",
       "398         0         0      ...          0        0        0      0      0   \n",
       "398         0         0      ...          0        0        0      0      0   \n",
       "429         0         0      ...          0        0        0      0      0   \n",
       "429         0         0      ...          0        0        0      0      0   \n",
       "434         0         0      ...          0        0        0      0      0   \n",
       "434         0         0      ...          0        0        0      0      0   \n",
       "509         0         0      ...          0        0        0      0      0   \n",
       "\n",
       "     NEW  phone   AGE2  PERSONS1_VOTE961  PERSONS1_NEW  \n",
       "375    1      0  22.09                 0             0  \n",
       "385    0      0  47.61                 0             0  \n",
       "385    0      0  47.61                 0             0  \n",
       "398    0      0  28.09                 0             0  \n",
       "398    0      0  28.09                 0             0  \n",
       "429    0      0  64.00                 0             0  \n",
       "429    0      0  64.00                 0             0  \n",
       "434    0      0  54.76                 0             0  \n",
       "434    0      0  54.76                 0             0  \n",
       "509    0      0  27.04                 0             0  \n",
       "\n",
       "[10 rows x 32 columns]"
      ]
     },
     "execution_count": 45,
     "metadata": {},
     "output_type": "execute_result"
    }
   ],
   "source": [
    "data_matched[100:110]"
   ]
  },
  {
   "cell_type": "code",
   "execution_count": 46,
   "metadata": {},
   "outputs": [
    {
     "data": {
      "text/plain": [
       "False"
      ]
     },
     "execution_count": 46,
     "metadata": {},
     "output_type": "execute_result"
    }
   ],
   "source": [
    "data_matched[data_matched['treatment']==0]['id_maybe'].is_unique"
   ]
  },
  {
   "cell_type": "code",
   "execution_count": 47,
   "metadata": {},
   "outputs": [
    {
     "data": {
      "text/plain": [
       "True"
      ]
     },
     "execution_count": 47,
     "metadata": {},
     "output_type": "execute_result"
    }
   ],
   "source": [
    "data_matched[data_matched['treatment']==1]['id_maybe'].is_unique"
   ]
  },
  {
   "cell_type": "markdown",
   "metadata": {},
   "source": [
    "What are the distributions of propensity scores for treatment and control, as smoothed KDE histograms, from all of the data and from only the matched data?"
   ]
  },
  {
   "cell_type": "markdown",
   "metadata": {},
   "source": [
    "If the covariate balance is good - i.e., if both the treatment and control groups have similar distributions in the covariates - then the distribution of the propensity scores should be similar. The matching has done this, as shown by the second plot below.\n",
    "\n",
    "This is a quickie update to show some covariate stuff too. "
   ]
  },
  {
   "cell_type": "code",
   "execution_count": 48,
   "metadata": {
    "collapsed": true
   },
   "outputs": [],
   "source": [
    "def plot_before_after_distributions(title, field=None, axis_limits=[0,0.15,0,40]):\n",
    "    if field == None:\n",
    "        field = title\n",
    "    \n",
    "    density0 = gaussian_kde(all_observations[all_observations['treatment']==0][field])\n",
    "    density1 = gaussian_kde(all_observations[all_observations['treatment']==1][field])\n",
    "    density0_post = gaussian_kde(data_matched[data_matched['treatment']==0][field])\n",
    "    density1_post = gaussian_kde(data_matched[data_matched['treatment']==1][field])\n",
    "    \n",
    "    #plt.figure(1)\n",
    "    plt.subplot(121)\n",
    "    xs = np.linspace(axis_limits[0], axis_limits[1], 200)\n",
    "\n",
    "    plt.plot(xs, density0(xs), color='black')\n",
    "    plt.fill_between(xs, density1(xs), color='gray')\n",
    "    plt.title('Phone: before matching')\n",
    "    plt.axis(axis_limits)\n",
    "    plt.xlabel(title)\n",
    "    plt.ylabel('Density')\n",
    "    plt.legend(['Control','Treatment'])\n",
    "    \n",
    "    plt.subplot(122)\n",
    "    plt.plot(xs, density0_post(xs), color='black')\n",
    "    plt.fill_between(xs, density1_post(xs), color='gray')\n",
    "    plt.title('Phone: after matching')\n",
    "    plt.axis(axis_limits)\n",
    "    plt.xlabel(title)\n",
    "    plt.ylabel('Density')\n",
    "    plt.legend(['Control','Treatment'])   \n",
    "    \n",
    "    plt.show()"
   ]
  },
  {
   "cell_type": "code",
   "execution_count": 49,
   "metadata": {},
   "outputs": [
    {
     "data": {
      "image/png": "[encoded data removed]",
      "text/plain": [
       "<matplotlib.figure.Figure at 0x2ed53153828>"
      ]
     },
     "metadata": {},
     "output_type": "display_data"
    },
    {
     "data": {
      "image/png": "[encoded data removed]",
      "text/plain": [
       "<matplotlib.figure.Figure at 0x2ed500aa4a8>"
      ]
     },
     "metadata": {},
     "output_type": "display_data"
    },
    {
     "data": {
      "image/png": "[encoded data removed]",
      "text/plain": [
       "<matplotlib.figure.Figure at 0x2ed5314dda0>"
      ]
     },
     "metadata": {},
     "output_type": "display_data"
    },
    {
     "data": {
      "text/plain": [
       "[None, None, None]"
      ]
     },
     "execution_count": 49,
     "metadata": {},
     "output_type": "execute_result"
    }
   ],
   "source": [
    "plot_specs = [{'title':'Propensity score', 'field':'pscore', 'axis_limits':[0,0.15,0,40]},\n",
    "              {'title':'MAJORPTY', 'axis_limits':[-0.5,1.5,0,5]},\n",
    "              {'title':'PERSONS', 'axis_limits':[-0.5,3,0,5]}]\n",
    "\n",
    "[plot_before_after_distributions(**spec) for spec in plot_specs]"
   ]
  },
  {
   "cell_type": "markdown",
   "metadata": {
    "collapsed": true
   },
   "source": [
    "The above only shows that the distributions of the propensity scores match. This is useful, because in many cases the propensity score is a good proxy for the covariates (or, it may be, if I did/didn't understand the original paper). However, we also probably want to check that the distributions of the covariates themselves match. One way to compare covariates is just to do what we did above, but use as input the distribution of covariate A, then covariate B, etc. Another option is to do statistical tests - the plot_balance call does this. It outputs a saved file that has HTML using a Plotly plot. For now, I'm just leaving this as and need to open and view the content.\n",
    "\n",
    "In the file itself, the plot shows the p-values from a set of two-sided t-tests. The author says the following of this plot:\n",
    "\n",
    "> Important note: I don’t “believe” the p-values coming out of these tests, in the sense that the necessary assumptions are definitely violated. However, they can serve as a crude measure of how similar the treatment and control group distributions are. A “small” p-value suggests that they’re very different.\n",
    "    \n",
    "In practice, the p-values for all but one of the covariates are small to very small before matching, and much larger after matching, which she says is an indication that the distributions are similar."
   ]
  },
  {
   "cell_type": "code",
   "execution_count": 50,
   "metadata": {
    "collapsed": true
   },
   "outputs": [],
   "source": [
    "pairs.plot_balance(covariates, filename='ggi-balance.html', auto_open=False)"
   ]
  },
  {
   "cell_type": "markdown",
   "metadata": {},
   "source": [
    "The bottom of the http://www.kellieottoboni.com/pscore_match/examples/ggi.html page also has a short example of estimating treatment effects."
   ]
  },
  {
   "cell_type": "code",
   "execution_count": null,
   "metadata": {
    "collapsed": true
   },
   "outputs": [],
   "source": []
  }
 ],
 "metadata": {
  "kernelspec": {
   "display_name": "Python 3",
   "language": "python",
   "name": "python3"
  },
  "language_info": {
   "codemirror_mode": {
    "name": "ipython",
    "version": 3
   },
   "file_extension": ".py",
   "mimetype": "text/x-python",
   "name": "python",
   "nbconvert_exporter": "python",
   "pygments_lexer": "ipython3",
   "version": "3.6.3"
  }
 },
 "nbformat": 4,
 "nbformat_minor": 2
}
