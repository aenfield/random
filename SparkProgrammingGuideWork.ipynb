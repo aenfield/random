{
 "cells": [
  {
   "cell_type": "markdown",
   "metadata": {},
   "source": [
    "Working through https://spark.apache.org/docs/latest/rdd-programming-guide.html."
   ]
  },
  {
   "cell_type": "code",
   "execution_count": 1,
   "metadata": {
    "collapsed": true
   },
   "outputs": [],
   "source": [
    "import findspark\n",
    "findspark.init()"
   ]
  },
  {
   "cell_type": "code",
   "execution_count": 2,
   "metadata": {
    "collapsed": true
   },
   "outputs": [],
   "source": [
    "from pyspark import SparkContext, SparkConf"
   ]
  },
  {
   "cell_type": "code",
   "execution_count": 3,
   "metadata": {
    "collapsed": true
   },
   "outputs": [],
   "source": [
    "conf = SparkConf().setAppName(\"foo\").setMaster(\"local\")\n",
    "sc = SparkContext(conf=conf)"
   ]
  },
  {
   "cell_type": "markdown",
   "metadata": {},
   "source": [
    "# Initial stuff"
   ]
  },
  {
   "cell_type": "code",
   "execution_count": 4,
   "metadata": {
    "collapsed": true
   },
   "outputs": [],
   "source": [
    "data = range(5)\n",
    "distData = sc.parallelize(data)"
   ]
  },
  {
   "cell_type": "code",
   "execution_count": 6,
   "metadata": {},
   "outputs": [
    {
     "data": {
      "text/plain": [
       "[0, 1, 2, 3, 4]"
      ]
     },
     "execution_count": 6,
     "metadata": {},
     "output_type": "execute_result"
    }
   ],
   "source": [
    "distData.collect()"
   ]
  },
  {
   "cell_type": "code",
   "execution_count": 7,
   "metadata": {},
   "outputs": [
    {
     "data": {
      "text/plain": [
       "10"
      ]
     },
     "execution_count": 7,
     "metadata": {},
     "output_type": "execute_result"
    }
   ],
   "source": [
    "distData.reduce(lambda a, b: a + b)"
   ]
  },
  {
   "cell_type": "code",
   "execution_count": 8,
   "metadata": {
    "collapsed": true
   },
   "outputs": [],
   "source": [
    "distFile = sc.textFile(\"/opt/spark/README.md\")"
   ]
  },
  {
   "cell_type": "code",
   "execution_count": 9,
   "metadata": {},
   "outputs": [
    {
     "data": {
      "text/plain": [
       "3706"
      ]
     },
     "execution_count": 9,
     "metadata": {},
     "output_type": "execute_result"
    }
   ],
   "source": [
    "distFile.map(lambda r: len(r)).reduce(lambda a, b: a + b)"
   ]
  },
  {
   "cell_type": "markdown",
   "metadata": {},
   "source": [
    "# RDD operations"
   ]
  },
  {
   "cell_type": "code",
   "execution_count": 10,
   "metadata": {
    "collapsed": true
   },
   "outputs": [],
   "source": [
    "lines = sc.textFile(\"/opt/spark/README.md\")\n",
    "lineLengths = lines.map(lambda r: len(r))\n",
    "totalLengths = lineLengths.reduce(lambda a, b: a + b)"
   ]
  },
  {
   "cell_type": "code",
   "execution_count": 11,
   "metadata": {},
   "outputs": [
    {
     "data": {
      "text/plain": [
       "3706"
      ]
     },
     "execution_count": 11,
     "metadata": {},
     "output_type": "execute_result"
    }
   ],
   "source": [
    "totalLengths"
   ]
  },
  {
   "cell_type": "code",
   "execution_count": 12,
   "metadata": {
    "collapsed": true
   },
   "outputs": [],
   "source": [
    "counter = 0\n",
    "rdd = sc.parallelize(data)"
   ]
  },
  {
   "cell_type": "code",
   "execution_count": 20,
   "metadata": {},
   "outputs": [
    {
     "data": {
      "text/plain": [
       "0"
      ]
     },
     "execution_count": 20,
     "metadata": {},
     "output_type": "execute_result"
    }
   ],
   "source": [
    "# wrong - undefined (use an Accumulator instead)\n",
    "# here the counter that each node sees is not the same as the counter\n",
    "# that the driver sees, and that we refer to when the code's done\n",
    "# the same thing is why something like rdd.map(println) won't work:\n",
    "# the println happens on each executor node, not on the driver\n",
    "# (you can call rdd.collect().map(println), but this requires that\n",
    "# the whole RDD be copied to the single driver machine\n",
    "def increment_counter(x):\n",
    "    global counter\n",
    "    counter += x\n",
    "\n",
    "rdd.foreach(increment_counter)\n",
    "\n",
    "counter"
   ]
  },
  {
   "cell_type": "code",
   "execution_count": 21,
   "metadata": {},
   "outputs": [
    {
     "data": {
      "text/plain": [
       "range(0, 5)"
      ]
     },
     "execution_count": 21,
     "metadata": {},
     "output_type": "execute_result"
    }
   ],
   "source": [
    "data"
   ]
  },
  {
   "cell_type": "code",
   "execution_count": 39,
   "metadata": {},
   "outputs": [],
   "source": [
    "lines = sc.textFile(\"/opt/spark/README.md\")\n",
    "pairs = lines.map(lambda r: (r, 1))\n",
    "counts = pairs.reduceByKey(lambda a, b: a + b)\n",
    "\n",
    "# no sorting if both of these are commented out\n",
    "\n",
    "# sort by the key, which is the text of the line here\n",
    "#counts = pairs.sortByKey()\n",
    "\n",
    "# sort by the value, which is here the count of lines\n",
    "#counts = counts.sortBy(lambda kv: kv[1])"
   ]
  },
  {
   "cell_type": "code",
   "execution_count": 33,
   "metadata": {},
   "outputs": [
    {
     "data": {
      "text/plain": [
       "[('# Apache Spark', 1),\n",
       " ('', 39),\n",
       " ('Spark is a fast and general cluster computing system for Big Data. It provides',\n",
       "  1),\n",
       " ('high-level APIs in Scala, Java, Python, and R, and an optimized engine that',\n",
       "  1),\n",
       " ('supports general computation graphs for data analysis. It also supports a',\n",
       "  1),\n",
       " ('rich set of higher-level tools including Spark SQL for SQL and DataFrames,',\n",
       "  1),\n",
       " ('MLlib for machine learning, GraphX for graph processing,', 1),\n",
       " ('and Spark Streaming for stream processing.', 1),\n",
       " ('<http://spark.apache.org/>', 1),\n",
       " ('## Online Documentation', 1),\n",
       " ('You can find the latest Spark documentation, including a programming', 1),\n",
       " ('guide, on the [project web page](http://spark.apache.org/documentation.html).',\n",
       "  1),\n",
       " ('This README file only contains basic setup instructions.', 1),\n",
       " ('## Building Spark', 1),\n",
       " ('Spark is built using [Apache Maven](http://maven.apache.org/).', 1),\n",
       " ('To build Spark and its example programs, run:', 1),\n",
       " ('    build/mvn -DskipTests clean package', 1),\n",
       " ('(You do not need to do this if you downloaded a pre-built package.)', 1),\n",
       " ('You can build Spark using more than one thread by using the -T option with Maven, see [\"Parallel builds in Maven 3\"](https://cwiki.apache.org/confluence/display/MAVEN/Parallel+builds+in+Maven+3).',\n",
       "  1),\n",
       " ('More detailed documentation is available from the project site, at', 1),\n",
       " ('[\"Building Spark\"](http://spark.apache.org/docs/latest/building-spark.html).',\n",
       "  1),\n",
       " ('For general development tips, including info on developing Spark using an IDE, see [\"Useful Developer Tools\"](http://spark.apache.org/developer-tools.html).',\n",
       "  1),\n",
       " ('## Interactive Scala Shell', 1),\n",
       " ('The easiest way to start using Spark is through the Scala shell:', 1),\n",
       " ('    ./bin/spark-shell', 1),\n",
       " ('Try the following command, which should return 1000:', 1),\n",
       " ('    scala> sc.parallelize(1 to 1000).count()', 1),\n",
       " ('## Interactive Python Shell', 1),\n",
       " ('Alternatively, if you prefer Python, you can use the Python shell:', 1),\n",
       " ('    ./bin/pyspark', 1),\n",
       " ('And run the following command, which should also return 1000:', 1),\n",
       " ('    >>> sc.parallelize(range(1000)).count()', 1),\n",
       " ('## Example Programs', 1),\n",
       " ('Spark also comes with several sample programs in the `examples` directory.',\n",
       "  1),\n",
       " ('To run one of them, use `./bin/run-example <class> [params]`. For example:',\n",
       "  1),\n",
       " ('    ./bin/run-example SparkPi', 1),\n",
       " ('will run the Pi example locally.', 1),\n",
       " ('You can set the MASTER environment variable when running examples to submit',\n",
       "  1),\n",
       " ('examples to a cluster. This can be a mesos:// or spark:// URL,', 1),\n",
       " ('\"yarn\" to run on YARN, and \"local\" to run', 1),\n",
       " ('locally with one thread, or \"local[N]\" to run locally with N threads. You',\n",
       "  1),\n",
       " ('can also use an abbreviated class name if the class is in the `examples`',\n",
       "  1),\n",
       " ('package. For instance:', 1),\n",
       " ('    MASTER=spark://host:7077 ./bin/run-example SparkPi', 1),\n",
       " ('Many of the example programs print usage help if no params are given.', 1),\n",
       " ('## Running Tests', 1),\n",
       " ('Testing first requires [building Spark](#building-spark). Once Spark is built, tests',\n",
       "  1),\n",
       " ('can be run using:', 1),\n",
       " ('    ./dev/run-tests', 1),\n",
       " ('Please see the guidance on how to', 1),\n",
       " ('[run tests for a module, or individual tests](http://spark.apache.org/developer-tools.html#individual-tests).',\n",
       "  1),\n",
       " ('## A Note About Hadoop Versions', 1),\n",
       " ('Spark uses the Hadoop core library to talk to HDFS and other Hadoop-supported',\n",
       "  1),\n",
       " ('storage systems. Because the protocols have changed in different versions of',\n",
       "  1),\n",
       " ('Hadoop, you must build Spark against the same version that your cluster runs.',\n",
       "  1),\n",
       " ('Please refer to the build documentation at', 1),\n",
       " ('[\"Specifying the Hadoop Version\"](http://spark.apache.org/docs/latest/building-spark.html#specifying-the-hadoop-version)',\n",
       "  1),\n",
       " ('for detailed guidance on building for a particular distribution of Hadoop, including',\n",
       "  1),\n",
       " ('building for particular Hive and Hive Thriftserver distributions.', 1),\n",
       " ('## Configuration', 1),\n",
       " ('Please refer to the [Configuration Guide](http://spark.apache.org/docs/latest/configuration.html)',\n",
       "  1),\n",
       " ('in the online documentation for an overview on how to configure Spark.', 1),\n",
       " ('## Contributing', 1),\n",
       " ('Please review the [Contribution to Spark guide](http://spark.apache.org/contributing.html)',\n",
       "  1),\n",
       " ('for information on how to get started contributing to the project.', 1)]"
      ]
     },
     "execution_count": 33,
     "metadata": {},
     "output_type": "execute_result"
    }
   ],
   "source": [
    "counts.collect()"
   ]
  },
  {
   "cell_type": "code",
   "execution_count": null,
   "metadata": {
    "collapsed": true
   },
   "outputs": [],
   "source": []
  }
 ],
 "metadata": {
  "kernelspec": {
   "display_name": "Python 3",
   "language": "python",
   "name": "python3"
  },
  "language_info": {
   "codemirror_mode": {
    "name": "ipython",
    "version": 3
   },
   "file_extension": ".py",
   "mimetype": "text/x-python",
   "name": "python",
   "nbconvert_exporter": "python",
   "pygments_lexer": "ipython3",
   "version": "3.6.1"
  }
 },
 "nbformat": 4,
 "nbformat_minor": 2
}
