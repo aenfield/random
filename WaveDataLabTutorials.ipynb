{
 "cells": [
  {
   "cell_type": "code",
   "execution_count": 1,
   "metadata": {
    "collapsed": false
   },
   "outputs": [
    {
     "name": "stdout",
     "output_type": "stream",
     "text": [
      "Populating the interactive namespace from numpy and matplotlib\n"
     ]
    }
   ],
   "source": [
    "%pylab inline\n",
    "import pandas as pd"
   ]
  },
  {
   "cell_type": "markdown",
   "metadata": {},
   "source": [
    "The original source data, from http://files.consumerfinance.gov/hmda/hmda_lar-2012.csv.gz, is 10gb uncompressed and has something like 18m+ rows. I used the DataFrame's `sample` method to get just 10k rows, saved that to a separate csv, and use that csv here."
   ]
  },
  {
   "cell_type": "code",
   "execution_count": 23,
   "metadata": {
    "collapsed": false
   },
   "outputs": [],
   "source": [
    "b = pd.read_csv('hmda_lar-2012-sampleof10000.csv',\n",
    "                dtype={'applicant_race_name_3':object,\n",
    "                       'applicant_race_name_4':object,\n",
    "                       'applicant_race_name_5':object,\n",
    "                       'co_applicant_race_name_3':object})\n",
    "# dtype specified for these columns to silence warning that doesn't seem to be accurate"
   ]
  },
  {
   "cell_type": "code",
   "execution_count": 22,
   "metadata": {
    "collapsed": false
   },
   "outputs": [
    {
     "data": {
      "text/plain": [
       "Unnamed: 0                          int64\n",
       "action_taken                        int64\n",
       "action_taken_name                  object\n",
       "agency_code                         int64\n",
       "agency_abbr                        object\n",
       "agency_name                        object\n",
       "applicant_ethnicity                 int64\n",
       "applicant_ethnicity_name           object\n",
       "applicant_income_000s             float64\n",
       "applicant_race_1                    int64\n",
       "applicant_race_2                  float64\n",
       "applicant_race_3                  float64\n",
       "applicant_race_4                  float64\n",
       "applicant_race_5                  float64\n",
       "applicant_race_name_1              object\n",
       "applicant_race_name_2              object\n",
       "applicant_race_name_3              object\n",
       "applicant_race_name_4              object\n",
       "applicant_race_name_5              object\n",
       "applicant_sex                       int64\n",
       "applicant_sex_name                 object\n",
       "application_date_indicator          int64\n",
       "as_of_year                          int64\n",
       "census_tract_number               float64\n",
       "co_applicant_ethnicity              int64\n",
       "co_applicant_ethnicity_name        object\n",
       "co_applicant_race_1                 int64\n",
       "co_applicant_race_2               float64\n",
       "co_applicant_race_3               float64\n",
       "co_applicant_race_4               float64\n",
       "                                   ...   \n",
       "hoepa_status_name                  object\n",
       "lien_status                         int64\n",
       "lien_status_name                   object\n",
       "loan_purpose                        int64\n",
       "loan_purpose_name                  object\n",
       "loan_type                           int64\n",
       "loan_type_name                     object\n",
       "msamd                             float64\n",
       "msamd_name                         object\n",
       "owner_occupancy                     int64\n",
       "owner_occupancy_name               object\n",
       "preapproval                         int64\n",
       "preapproval_name                   object\n",
       "property_type                       int64\n",
       "property_type_name                 object\n",
       "purchaser_type                      int64\n",
       "purchaser_type_name                object\n",
       "respondent_id                      object\n",
       "sequence_number                     int64\n",
       "state_code                        float64\n",
       "state_abbr                         object\n",
       "state_name                         object\n",
       "hud_median_family_income          float64\n",
       "loan_amount_000s                    int64\n",
       "number_of_1_to_4_family_units     float64\n",
       "number_of_owner_occupied_units    float64\n",
       "minority_population               float64\n",
       "population                        float64\n",
       "rate_spread                       float64\n",
       "tract_to_msamd_income             float64\n",
       "dtype: object"
      ]
     },
     "execution_count": 22,
     "metadata": {},
     "output_type": "execute_result"
    }
   ],
   "source": [
    "b.dtypes"
   ]
  },
  {
   "cell_type": "code",
   "execution_count": null,
   "metadata": {
    "collapsed": true
   },
   "outputs": [],
   "source": []
  }
 ],
 "metadata": {
  "kernelspec": {
   "display_name": "Python 3",
   "language": "python",
   "name": "python3"
  },
  "language_info": {
   "codemirror_mode": {
    "name": "ipython",
    "version": 3
   },
   "file_extension": ".py",
   "mimetype": "text/x-python",
   "name": "python",
   "nbconvert_exporter": "python",
   "pygments_lexer": "ipython3",
   "version": "3.4.3"
  }
 },
 "nbformat": 4,
 "nbformat_minor": 0
}
