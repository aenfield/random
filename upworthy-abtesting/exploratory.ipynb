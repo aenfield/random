{
 "cells": [
  {
   "cell_type": "code",
   "execution_count": 2,
   "id": "d0f5b6a7",
   "metadata": {},
   "outputs": [],
   "source": [
    "import duckdb"
   ]
  },
  {
   "cell_type": "markdown",
   "id": "c6b2136f",
   "metadata": {},
   "source": [
    "# Raw data"
   ]
  },
  {
   "cell_type": "code",
   "execution_count": 35,
   "id": "b4f04b5a",
   "metadata": {},
   "outputs": [],
   "source": [
    "conn = duckdb.connect()"
   ]
  },
  {
   "cell_type": "code",
   "execution_count": 36,
   "id": "f3b89e89",
   "metadata": {},
   "outputs": [],
   "source": [
    "# filenames are of the format upworthy-archive-confirmatory-packages-03.12.2020.csv,\n",
    "# with 'confirmatory', 'exploratory', 'holdout', and 'undeployed'\n",
    "filename_descs_and_dates = [('confirmatory','-03.12.2020'),\n",
    "                            ('exploratory','-03.12.2020'),\n",
    "                            ('holdout','-03.12.2020'),\n",
    "                            ('undeployed','.01.12.2021')]\n",
    "def get_filename(desc, date):\n",
    "    return f'datasets/upworthy-archive-{desc}-packages{date}.csv'\n",
    "\n",
    "def get_df_from_sql(sql):\n",
    "    return conn.execute(sql).fetchdf()"
   ]
  },
  {
   "cell_type": "code",
   "execution_count": 37,
   "id": "75e1d365",
   "metadata": {},
   "outputs": [
    {
     "name": "stdout",
     "output_type": "stream",
     "text": [
      "File: confirmatory\n",
      "(105551, Index(['column00', 'created_at', 'updated_at', 'clickability_test_id',\n",
      "       'excerpt', 'headline', 'lede', 'slug', 'eyecatcher_id', 'impressions',\n",
      "       'clicks', 'significance', 'first_place', 'winner', 'share_text',\n",
      "       'square', 'test_week'],\n",
      "      dtype='object'))\n",
      "File: exploratory\n",
      "(22666, Index(['column00', 'created_at', 'updated_at', 'clickability_test_id',\n",
      "       'excerpt', 'headline', 'lede', 'slug', 'eyecatcher_id', 'impressions',\n",
      "       'clicks', 'significance', 'first_place', 'winner', 'share_text',\n",
      "       'square', 'test_week'],\n",
      "      dtype='object'))\n",
      "File: holdout\n",
      "(22600, Index(['column00', 'created_at', 'updated_at', 'clickability_test_id',\n",
      "       'excerpt', 'headline', 'lede', 'slug', 'eyecatcher_id', 'impressions',\n",
      "       'clicks', 'significance', 'first_place', 'winner', 'share_text',\n",
      "       'square', 'test_week'],\n",
      "      dtype='object'))\n",
      "File: undeployed\n",
      "(78232, Index(['_id', 'created_at', 'updated_at', 'clickability_test_id', 'excerpt',\n",
      "       'headline', 'lede', 'slug', 'eyecatcher_id', 'impressions', 'clicks',\n",
      "       'significance', 'first_place', 'winner', 'share_text', 'square'],\n",
      "      dtype='object'))\n"
     ]
    }
   ],
   "source": [
    "def get_file_details(file_desc, file_date):\n",
    "    df = get_df_from_sql(\n",
    "    f\"\"\"\n",
    "    SELECT\n",
    "        *\n",
    "    FROM read_csv_auto('{get_filename(file_desc, file_date)}');                             \n",
    "    \"\"\")\n",
    "    \n",
    "    return len(df), df.columns\n",
    "\n",
    "for file_desc, file_date in filename_descs_and_dates:\n",
    "    print(f'File: {file_desc}')\n",
    "    print(get_file_details(file_desc, file_date))"
   ]
  },
  {
   "cell_type": "code",
   "execution_count": 43,
   "id": "6696862f",
   "metadata": {},
   "outputs": [
    {
     "data": {
      "text/plain": [
       "229049"
      ]
     },
     "execution_count": 43,
     "metadata": {},
     "output_type": "execute_result"
    }
   ],
   "source": [
    "105551 + 22666 + 22600 + 78232"
   ]
  },
  {
   "cell_type": "markdown",
   "id": "1d09bf90",
   "metadata": {},
   "source": [
    "# Create a single table in a persisted duckdb file"
   ]
  },
  {
   "cell_type": "code",
   "execution_count": 39,
   "id": "e0140e72",
   "metadata": {},
   "outputs": [
    {
     "name": "stdout",
     "output_type": "stream",
     "text": [
      "\n",
      "    CREATE TABLE exps AS\n",
      "    SELECT column00 as id, * EXCLUDE (column00), 'confirmatory' as source_type FROM 'datasets/upworthy-archive-confirmatory-packages-03.12.2020.csv'\n",
      "    UNION ALL\n",
      "    SELECT column00 as id, * EXCLUDE (column00), 'exploratory' as source_type FROM 'datasets/upworthy-archive-exploratory-packages-03.12.2020.csv'\n",
      "    UNION ALL\n",
      "    SELECT column00 as id, * EXCLUDE (column00), 'holdout' as source_type FROM 'datasets/upworthy-archive-holdout-packages-03.12.2020.csv'\n",
      "    UNION ALL\n",
      "    SELECT _id as id, * EXCLUDE (_id),  NULL as test_week, 'undeployed' as source_type FROM 'datasets/upworthy-archive-undeployed-packages.01.12.2021.csv'\n",
      "\n"
     ]
    }
   ],
   "source": [
    "create_table_sql = f\"\"\"\n",
    "    CREATE TABLE exps AS\n",
    "    SELECT column00 as id, * EXCLUDE (column00), 'confirmatory' as source_type FROM '{get_filename('confirmatory', '-03.12.2020')}'\n",
    "    UNION ALL\n",
    "    SELECT column00 as id, * EXCLUDE (column00), 'exploratory' as source_type FROM '{get_filename('exploratory', '-03.12.2020')}'\n",
    "    UNION ALL\n",
    "    SELECT column00 as id, * EXCLUDE (column00), 'holdout' as source_type FROM '{get_filename('holdout', '-03.12.2020')}'\n",
    "    UNION ALL\n",
    "    SELECT _id as id, * EXCLUDE (_id),  NULL as test_week, 'undeployed' as source_type FROM '{get_filename('undeployed', '.01.12.2021')}'\n",
    "\"\"\"\n",
    "print(create_table_sql)"
   ]
  },
  {
   "cell_type": "code",
   "execution_count": 40,
   "id": "65b15ba7",
   "metadata": {},
   "outputs": [
    {
     "data": {
      "text/plain": [
       "<_duckdb.DuckDBPyConnection at 0x1176388f0>"
      ]
     },
     "execution_count": 40,
     "metadata": {},
     "output_type": "execute_result"
    }
   ],
   "source": [
    "file_conn = duckdb.connect('experiments.duckdb')\n",
    "file_conn.execute(create_table_sql)"
   ]
  },
  {
   "cell_type": "code",
   "execution_count": 44,
   "id": "e38760c0",
   "metadata": {},
   "outputs": [
    {
     "data": {
      "text/plain": [
       "229049"
      ]
     },
     "execution_count": 44,
     "metadata": {},
     "output_type": "execute_result"
    }
   ],
   "source": [
    "exps_df = file_conn.execute('FROM exps').fetchdf()\n",
    "len(exps_df)"
   ]
  },
  {
   "cell_type": "code",
   "execution_count": 46,
   "id": "84e8ee97",
   "metadata": {},
   "outputs": [
    {
     "data": {
      "text/html": [
       "<div>\n",
       "<style scoped>\n",
       "    .dataframe tbody tr th:only-of-type {\n",
       "        vertical-align: middle;\n",
       "    }\n",
       "\n",
       "    .dataframe tbody tr th {\n",
       "        vertical-align: top;\n",
       "    }\n",
       "\n",
       "    .dataframe thead th {\n",
       "        text-align: right;\n",
       "    }\n",
       "</style>\n",
       "<table border=\"1\" class=\"dataframe\">\n",
       "  <thead>\n",
       "    <tr style=\"text-align: right;\">\n",
       "      <th></th>\n",
       "      <th>id</th>\n",
       "      <th>created_at</th>\n",
       "      <th>updated_at</th>\n",
       "      <th>clickability_test_id</th>\n",
       "      <th>excerpt</th>\n",
       "      <th>headline</th>\n",
       "      <th>lede</th>\n",
       "      <th>slug</th>\n",
       "      <th>eyecatcher_id</th>\n",
       "      <th>impressions</th>\n",
       "      <th>clicks</th>\n",
       "      <th>significance</th>\n",
       "      <th>first_place</th>\n",
       "      <th>winner</th>\n",
       "      <th>share_text</th>\n",
       "      <th>square</th>\n",
       "      <th>test_week</th>\n",
       "      <th>source_type</th>\n",
       "    </tr>\n",
       "  </thead>\n",
       "  <tbody>\n",
       "    <tr>\n",
       "      <th>0</th>\n",
       "      <td>11</td>\n",
       "      <td>2014-11-20 11:33:26.475</td>\n",
       "      <td>2016-04-02 16:25:54.046</td>\n",
       "      <td>546dd17e26714c82cc00001c</td>\n",
       "      <td>Things that matter. Pass 'em on.</td>\n",
       "      <td>Let’s See … Hire Cops, Pay Teachers, Buy Books...</td>\n",
       "      <td>&lt;p&gt;Iff you start with the basic fact that inno...</td>\n",
       "      <td>let-s-see-hire-cops-pay-teachers-buy-books-for...</td>\n",
       "      <td>546dce659ad54ec65b000041</td>\n",
       "      <td>3118</td>\n",
       "      <td>8</td>\n",
       "      <td>0.1</td>\n",
       "      <td>False</td>\n",
       "      <td>False</td>\n",
       "      <td>None</td>\n",
       "      <td>None</td>\n",
       "      <td>201446</td>\n",
       "      <td>confirmatory</td>\n",
       "    </tr>\n",
       "    <tr>\n",
       "      <th>1</th>\n",
       "      <td>12</td>\n",
       "      <td>2014-11-20 15:00:01.032</td>\n",
       "      <td>2016-04-02 16:25:54.128</td>\n",
       "      <td>546e01d626714c6c4400004e</td>\n",
       "      <td>Things that matter. Pass 'em on.</td>\n",
       "      <td>People Sent This Lesbian Questions And Her Rai...</td>\n",
       "      <td>&lt;p&gt;I'll be honest. I've wondered about 7.&lt;/p&gt;</td>\n",
       "      <td>people-sent-this-lesbian-questions-and-her-rai...</td>\n",
       "      <td>546d1b4bfd3617f091000041</td>\n",
       "      <td>4587</td>\n",
       "      <td>130</td>\n",
       "      <td>55.8</td>\n",
       "      <td>False</td>\n",
       "      <td>False</td>\n",
       "      <td>None</td>\n",
       "      <td>None</td>\n",
       "      <td>201446</td>\n",
       "      <td>confirmatory</td>\n",
       "    </tr>\n",
       "    <tr>\n",
       "      <th>2</th>\n",
       "      <td>13</td>\n",
       "      <td>2014-11-20 11:33:51.973</td>\n",
       "      <td>2016-04-02 16:25:54.069</td>\n",
       "      <td>546dd17e26714c82cc00001c</td>\n",
       "      <td>Things that matter. Pass 'em on.</td>\n",
       "      <td>$3 Million Is What It Takes For A State To Leg...</td>\n",
       "      <td>&lt;p&gt;Iff you start with the basic fact that inno...</td>\n",
       "      <td>3-million-is-what-it-takes-for-a-state-to-lega...</td>\n",
       "      <td>546dce659ad54ec65b000041</td>\n",
       "      <td>3017</td>\n",
       "      <td>19</td>\n",
       "      <td>26.9</td>\n",
       "      <td>False</td>\n",
       "      <td>False</td>\n",
       "      <td>None</td>\n",
       "      <td>None</td>\n",
       "      <td>201446</td>\n",
       "      <td>confirmatory</td>\n",
       "    </tr>\n",
       "  </tbody>\n",
       "</table>\n",
       "</div>"
      ],
      "text/plain": [
       "   id              created_at              updated_at  \\\n",
       "0  11 2014-11-20 11:33:26.475 2016-04-02 16:25:54.046   \n",
       "1  12 2014-11-20 15:00:01.032 2016-04-02 16:25:54.128   \n",
       "2  13 2014-11-20 11:33:51.973 2016-04-02 16:25:54.069   \n",
       "\n",
       "       clickability_test_id                           excerpt  \\\n",
       "0  546dd17e26714c82cc00001c  Things that matter. Pass 'em on.   \n",
       "1  546e01d626714c6c4400004e  Things that matter. Pass 'em on.   \n",
       "2  546dd17e26714c82cc00001c  Things that matter. Pass 'em on.   \n",
       "\n",
       "                                            headline  \\\n",
       "0  Let’s See … Hire Cops, Pay Teachers, Buy Books...   \n",
       "1  People Sent This Lesbian Questions And Her Rai...   \n",
       "2  $3 Million Is What It Takes For A State To Leg...   \n",
       "\n",
       "                                                lede  \\\n",
       "0  <p>Iff you start with the basic fact that inno...   \n",
       "1      <p>I'll be honest. I've wondered about 7.</p>   \n",
       "2  <p>Iff you start with the basic fact that inno...   \n",
       "\n",
       "                                                slug  \\\n",
       "0  let-s-see-hire-cops-pay-teachers-buy-books-for...   \n",
       "1  people-sent-this-lesbian-questions-and-her-rai...   \n",
       "2  3-million-is-what-it-takes-for-a-state-to-lega...   \n",
       "\n",
       "              eyecatcher_id  impressions  clicks  significance  first_place  \\\n",
       "0  546dce659ad54ec65b000041         3118       8           0.1        False   \n",
       "1  546d1b4bfd3617f091000041         4587     130          55.8        False   \n",
       "2  546dce659ad54ec65b000041         3017      19          26.9        False   \n",
       "\n",
       "   winner share_text square  test_week   source_type  \n",
       "0   False       None   None     201446  confirmatory  \n",
       "1   False       None   None     201446  confirmatory  \n",
       "2   False       None   None     201446  confirmatory  "
      ]
     },
     "execution_count": 46,
     "metadata": {},
     "output_type": "execute_result"
    }
   ],
   "source": [
    "exps_df[:3]"
   ]
  },
  {
   "cell_type": "code",
   "execution_count": 47,
   "id": "e6cac6aa",
   "metadata": {},
   "outputs": [
    {
     "data": {
      "text/plain": [
       "source_type\n",
       "confirmatory    105551\n",
       "undeployed       78232\n",
       "exploratory      22666\n",
       "holdout          22600\n",
       "Name: count, dtype: int64"
      ]
     },
     "execution_count": 47,
     "metadata": {},
     "output_type": "execute_result"
    }
   ],
   "source": [
    "exps_df['source_type'].value_counts(dropna=False)"
   ]
  },
  {
   "cell_type": "code",
   "execution_count": 48,
   "id": "65481484",
   "metadata": {},
   "outputs": [
    {
     "data": {
      "text/plain": [
       "id                                                                     11\n",
       "created_at                                     2014-11-20 11:33:26.475000\n",
       "updated_at                                     2016-04-02 16:25:54.046000\n",
       "clickability_test_id                             546dd17e26714c82cc00001c\n",
       "excerpt                                  Things that matter. Pass 'em on.\n",
       "headline                Let’s See … Hire Cops, Pay Teachers, Buy Books...\n",
       "lede                    <p>Iff you start with the basic fact that inno...\n",
       "slug                    let-s-see-hire-cops-pay-teachers-buy-books-for...\n",
       "eyecatcher_id                                    546dce659ad54ec65b000041\n",
       "impressions                                                          3118\n",
       "clicks                                                                  8\n",
       "significance                                                          0.1\n",
       "first_place                                                         False\n",
       "winner                                                              False\n",
       "share_text                                                           None\n",
       "square                                                               None\n",
       "test_week                                                          201446\n",
       "source_type                                                  confirmatory\n",
       "Name: 0, dtype: object"
      ]
     },
     "execution_count": 48,
     "metadata": {},
     "output_type": "execute_result"
    }
   ],
   "source": [
    "exps_df.iloc[0]"
   ]
  },
  {
   "cell_type": "code",
   "execution_count": null,
   "id": "3f27deba",
   "metadata": {},
   "outputs": [],
   "source": []
  }
 ],
 "metadata": {
  "kernelspec": {
   "display_name": ".venv",
   "language": "python",
   "name": "python3"
  },
  "language_info": {
   "codemirror_mode": {
    "name": "ipython",
    "version": 3
   },
   "file_extension": ".py",
   "mimetype": "text/x-python",
   "name": "python",
   "nbconvert_exporter": "python",
   "pygments_lexer": "ipython3",
   "version": "3.11.11"
  }
 },
 "nbformat": 4,
 "nbformat_minor": 5
}
